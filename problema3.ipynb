{
  "nbformat": 4,
  "nbformat_minor": 0,
  "metadata": {
    "colab": {
      "provenance": []
    },
    "kernelspec": {
      "name": "python3",
      "display_name": "Python 3"
    },
    "language_info": {
      "name": "python"
    }
  },
  "cells": [
    {
      "cell_type": "markdown",
      "source": [
        "# GCC118 - Programação Matemática\n",
        "## Universidade Federal de Lavras\n",
        "### Problema 3\n",
        "#### Aluno: Eduardo Cesar Cauduro Coelho\n",
        "#### Matrícula: 202310175\n",
        "#### Aluno: Felipe Geraldo de Oliveira\n",
        "#### Matrícula: 202310174"
      ],
      "metadata": {
        "id": "mjFIa9Tibj45"
      }
    },
    {
      "cell_type": "markdown",
      "source": [
        "## Instalação da biblioteca Gurobipy"
      ],
      "metadata": {
        "id": "XHPuZ6mIb3av"
      }
    },
    {
      "cell_type": "code",
      "execution_count": 1,
      "metadata": {
        "colab": {
          "base_uri": "https://localhost:8080/"
        },
        "id": "3NELMKlybaaA",
        "outputId": "32a0b4cc-5696-4d72-9319-f7e8fb2eeab3"
      },
      "outputs": [
        {
          "output_type": "stream",
          "name": "stdout",
          "text": [
            "Requirement already satisfied: gurobipy in /usr/local/lib/python3.10/dist-packages (12.0.0)\n"
          ]
        }
      ],
      "source": [
        "!pip install gurobipy"
      ]
    },
    {
      "cell_type": "markdown",
      "source": [
        "## Para executar, siga os seguintes passos:\n",
        "* Extraia o arquivo \"Dados McDonalds AP2.zip\"\n",
        "* Crie um diretório chamado McDonalds no diretório atual do Google Colab\n",
        "* Faça upload de todos os arquivos wsv extraídos para essa pasta McDonalds"
      ],
      "metadata": {
        "id": "-HuCroMrdKUt"
      }
    },
    {
      "cell_type": "markdown",
      "source": [
        "## Importação da biblioteca re para expressões regulares e leitura dos dados do arquivo McDonalds-amnt.wsv\n",
        "\n",
        "#### A expressão regular \"([^\"]*)\"|(\\S+) apresenta dois grupos de captura:\n",
        "\n",
        "* \"([^\"]*)\" captura tudo que está entre aspas, por exemplo: \"Big Mac\".\n",
        "* (\\S+) captura tudo que não é espaço, por exemplo: Energia.\n",
        "\n",
        "#### Se a palavra está entre aspas, o primeiro grupo captura tudo até que encontre o fecho das aspas.\n",
        "#### Se a palavra não está entre aspas, o segundo grupo captura tudo até encontrar um espaço."
      ],
      "metadata": {
        "id": "_BoB2fAkcfZ2"
      }
    },
    {
      "cell_type": "code",
      "source": [
        "import re\n",
        "\n",
        "amnt = {}\n",
        "composition_nutr = []\n",
        "products = []\n",
        "\n",
        "counter = 0\n",
        "\n",
        "with open('McDonalds/McDonalds-amnt.wsv', 'r') as file:\n",
        "    for line in file:\n",
        "\n",
        "        parts = re.findall(r'\"([^\"]*)\"|(\\S+)', line.strip())\n",
        "\n",
        "        if counter == 0: # Ignora o cabeçalho\n",
        "          counter += 1\n",
        "          continue\n",
        "\n",
        "        row = [part[0] if part[0] else part[1] for part in parts] # Quando um grupo é capturado, o outro é nulo. Escolhe o que não é nulo.\n",
        "\n",
        "        if counter == 1: # Captura os nomes dos nutrientes\n",
        "          composition_nutr = row[1:]\n",
        "          counter += 1\n",
        "          continue\n",
        "\n",
        "        nutrients = {c: n for c, n in zip(composition_nutr, row[1:])}\n",
        "\n",
        "        products.append(row[0])\n",
        "\n",
        "        amnt[row[0]] = nutrients\n",
        "        counter +=1\n",
        "\n",
        "print(amnt[\"Big Mac\"]) # Impressão de uma instância"
      ],
      "metadata": {
        "colab": {
          "base_uri": "https://localhost:8080/"
        },
        "id": "dxV3IidZb_fD",
        "outputId": "498c0c8e-d13a-4819-a51b-f8f4b02e1386"
      },
      "execution_count": 2,
      "outputs": [
        {
          "output_type": "stream",
          "name": "stdout",
          "text": [
            "{'Energia': '25', 'Carb.': '14', 'Prot.': '33', 'G. Total': '49', 'G. Sat.': '55', 'Colest.': '18', 'Fibra': '14', 'Sódio': '40', 'Cálcio': '19', 'Ferro': '46'}\n"
          ]
        }
      ]
    },
    {
      "cell_type": "markdown",
      "source": [
        "## Leitura dos dados do arquivo McDonalds-food.wsv\n",
        "\n",
        "#### Como os limites inferiores e superiores são todos 'NA', então não considera esses dados na leitura:"
      ],
      "metadata": {
        "id": "ZqYAaaERtjFc"
      }
    },
    {
      "cell_type": "code",
      "source": [
        "food = {}\n",
        "\n",
        "data_index = [\"cost\", \"veg\"]\n",
        "\n",
        "counter = 0\n",
        "\n",
        "with open('McDonalds/McDonalds-food.wsv', 'r') as file:\n",
        "    for line in file:\n",
        "\n",
        "        parts = re.findall(r'\"([^\"]*)\"|(\\S+)', line.strip())\n",
        "\n",
        "        if counter < 3: # Ignora o cabeçalho e os nomes das colunas\n",
        "          counter += 1\n",
        "          continue\n",
        "\n",
        "        row = [part[0] if part[0] else part[1] for part in parts if part[0] or part[1] != \"NA\"] # Faz o mesmo que na leitura do arquivo anterior, mas ignora os dados que são NA\n",
        "\n",
        "        data = {c: n for c, n in zip(data_index, row[1:])}\n",
        "\n",
        "        food[row[0]] = data\n",
        "\n",
        "        counter +=1\n",
        "\n",
        "print(food[\"Big Mac\"]) # Impressão de uma instância"
      ],
      "metadata": {
        "colab": {
          "base_uri": "https://localhost:8080/"
        },
        "id": "jc1mkXFdfZK6",
        "outputId": "3bd993c2-8774-40af-dc9d-f9a742220fc0"
      },
      "execution_count": 3,
      "outputs": [
        {
          "output_type": "stream",
          "name": "stdout",
          "text": [
            "{'cost': '6.90', 'veg': 'false'}\n"
          ]
        }
      ]
    },
    {
      "cell_type": "markdown",
      "source": [
        "## Como o arquivo McDonalds-nutr.wsv possui n_min = 100 e n_max = 'NF' (NF nesse caso seria equivalente a ilimitado) para todo nutriente, então não é necessário ler todo o arquivo, basta anotar o valor de n_min."
      ],
      "metadata": {
        "id": "02bRAG6MuoIo"
      }
    },
    {
      "cell_type": "code",
      "source": [
        "VDR_MIN = 100"
      ],
      "metadata": {
        "id": "CM5AMk7DoOgS"
      },
      "execution_count": 4,
      "outputs": []
    },
    {
      "cell_type": "markdown",
      "source": [
        "## Criação do modelo:"
      ],
      "metadata": {
        "id": "OxGFfXc9vE1T"
      }
    },
    {
      "cell_type": "code",
      "source": [
        "from gurobipy import Model, GRB, quicksum\n",
        "\n",
        "model = Model(\"foods_McDonalds\")"
      ],
      "metadata": {
        "id": "eKplaInGq-e3",
        "colab": {
          "base_uri": "https://localhost:8080/"
        },
        "outputId": "7219880a-b95e-4b67-b193-71fde5e6420f"
      },
      "execution_count": 5,
      "outputs": [
        {
          "output_type": "stream",
          "name": "stdout",
          "text": [
            "Restricted license - for non-production use only - expires 2026-11-23\n"
          ]
        }
      ]
    },
    {
      "cell_type": "markdown",
      "source": [
        "## Declaração das variáveis de decisão que indicam o número de alimentos de cada tipo comprados:"
      ],
      "metadata": {
        "id": "UfKk3q2DwUfV"
      }
    },
    {
      "cell_type": "code",
      "source": [
        "var_product = {}\n",
        "for product in products:\n",
        "  var_product[product] = model.addVar(vtype=GRB.CONTINUOUS, name=product, lb=0)"
      ],
      "metadata": {
        "id": "eA4lmYxHroyE"
      },
      "execution_count": 6,
      "outputs": []
    },
    {
      "cell_type": "markdown",
      "source": [
        "## Função objetivo: minimiza o custo de compra dos alimentos:"
      ],
      "metadata": {
        "id": "4orKOq6mwhnt"
      }
    },
    {
      "cell_type": "code",
      "source": [
        "obj_sum = quicksum(var_product[product] * food[product][\"cost\"] for product in products)\n",
        "\n",
        "model.setObjective(obj_sum, GRB.MINIMIZE)"
      ],
      "metadata": {
        "id": "jb8SM9_VsWBR"
      },
      "execution_count": 7,
      "outputs": []
    },
    {
      "cell_type": "markdown",
      "source": [
        "## Restrição\n",
        "\n",
        "* A oferta nutricional dos alimentos comprados deve ser maior ou igual ao valor diário mínimo:\n"
      ],
      "metadata": {
        "id": "bsK4kp7kxRlO"
      }
    },
    {
      "cell_type": "code",
      "source": [
        "for nutrient in composition_nutr:\n",
        "\n",
        "  nutr_constr = quicksum(var_product[product] * amnt[product][nutrient] for product in products)\n",
        "\n",
        "  model.addConstr(nutr_constr >= VDR_MIN, name=f'nutriente_{nutrient}')"
      ],
      "metadata": {
        "id": "QRRUktlrtctz"
      },
      "execution_count": 8,
      "outputs": []
    },
    {
      "cell_type": "markdown",
      "source": [
        "## Portanto, temos o seguinte modelo:\n",
        "\n",
        "\\begin{equation}\n",
        "\\min f(x_{ij}) = \\sum_{i=1}^{n} (c_i \\times x_i)\n",
        "\\end{equation}\n",
        "\n",
        "sujeito a:\n",
        "\n",
        "\\begin{alignat}{2}\n",
        "\\sum_{i=1}^{n}(x_{i} \\times n_{ij}) \\ge V && \\qquad j = 1,...,m \\\\\n",
        "x_{i} \\ge 0 && \\qquad\n",
        "\\end{alignat}\n",
        "\n",
        "* Sendo:\n",
        "  * $x_i$ é a variável que representa a quantidade do alimento i comprado, onde i = $1,...,n$.\n",
        "  * $c_i$ é o parâmetro que representa o custo do produto i.\n",
        "  * $n_{ij}$ é o parâmetro que representa o percentual diário que um alimento i fornece de um nutriente j, onde j = $1,...,m$\n",
        "  * V representa o valor diário mínimo necessário de cada nutriente."
      ],
      "metadata": {
        "id": "MK8FAwIXxp-x"
      }
    },
    {
      "cell_type": "markdown",
      "source": [
        "# Otimização do modelo:"
      ],
      "metadata": {
        "id": "I_pIwkQ3-NDa"
      }
    },
    {
      "cell_type": "code",
      "source": [
        "model.optimize()"
      ],
      "metadata": {
        "colab": {
          "base_uri": "https://localhost:8080/"
        },
        "id": "O-GKQTn0ubZ-",
        "outputId": "f2a18859-8b31-4651-b866-50a505fe39ad",
        "collapsed": true
      },
      "execution_count": 9,
      "outputs": [
        {
          "output_type": "stream",
          "name": "stdout",
          "text": [
            "Gurobi Optimizer version 12.0.0 build v12.0.0rc1 (linux64 - \"Ubuntu 22.04.3 LTS\")\n",
            "\n",
            "CPU model: Intel(R) Xeon(R) CPU @ 2.20GHz, instruction set [SSE2|AVX|AVX2]\n",
            "Thread count: 1 physical cores, 2 logical processors, using up to 2 threads\n",
            "\n",
            "Optimize a model with 10 rows, 84 columns and 634 nonzeros\n",
            "Model fingerprint: 0x8971e040\n",
            "Coefficient statistics:\n",
            "  Matrix range     [1e+00, 1e+02]\n",
            "  Objective range  [1e+00, 1e+01]\n",
            "  Bounds range     [0e+00, 0e+00]\n",
            "  RHS range        [1e+02, 1e+02]\n",
            "Presolve removed 0 rows and 16 columns\n",
            "Presolve time: 0.02s\n",
            "Presolved: 10 rows, 68 columns, 580 nonzeros\n",
            "\n",
            "Iteration    Objective       Primal Inf.    Dual Inf.      Time\n",
            "       0    0.0000000e+00   7.500000e+01   0.000000e+00      0s\n",
            "       3    2.4311927e+01   0.000000e+00   0.000000e+00      0s\n",
            "\n",
            "Solved in 3 iterations and 0.03 seconds (0.00 work units)\n",
            "Optimal objective  2.431192661e+01\n"
          ]
        }
      ]
    },
    {
      "cell_type": "markdown",
      "source": [
        "## Impressão das soluções do modelo:"
      ],
      "metadata": {
        "id": "VpywpTP5-ibG"
      }
    },
    {
      "cell_type": "code",
      "source": [
        "print(f\"Valor ótimo: {model.objVal}\")\n",
        "for product in products:\n",
        "  print(f\"{product}: {var_product[product].x}\")"
      ],
      "metadata": {
        "colab": {
          "base_uri": "https://localhost:8080/"
        },
        "id": "skfkfsoGuqwn",
        "outputId": "8ad8f37b-665b-471d-f479-814f5a0b82b5",
        "collapsed": true
      },
      "execution_count": 10,
      "outputs": [
        {
          "output_type": "stream",
          "name": "stdout",
          "text": [
            "Valor ótimo: 24.31192660550459\n",
            "Big Mac: 0.0\n",
            "Big Tasty: 0.0\n",
            "Quarterão com Queijo: 0.0\n",
            "McNífico Bacon: 0.0\n",
            "Cheddar McMelt: 0.0\n",
            "McFish: 0.0\n",
            "McChicken: 0.0\n",
            "Crispy Chicken: 0.0\n",
            "Chicken Grill: 0.0\n",
            "McDuplo: 5.045871559633028\n",
            "Cheeseburger: 0.0\n",
            "Hamburger: 0.0\n",
            "Queijo Quente: 0.0\n",
            "McBacon Junior: 0.0\n",
            "Mini McSalad Shaker: 0.0\n",
            "Premium Salad: 0.0\n",
            "Premium Salad Grill: 0.0\n",
            "Premium Salad Crispy: 0.0\n",
            "Molho Salada Caseiro: 0.0\n",
            "Molho Salada Tomate Seco: 0.0\n",
            "Molho Salada Ranch: 0.0\n",
            "McFritas grande: 0.0\n",
            "McFritas média: 0.0\n",
            "McFritas pequena: 0.0\n",
            "Chicken McNuggets (12 unid.): 0.0\n",
            "Chicken McNuggets (4 unid.): 0.0\n",
            "Chicken McNuggets (6 unid.): 0.0\n",
            "Molho Agridoce: 0.0\n",
            "Molho Barbecue: 0.0\n",
            "Molho Hot Mustard: 0.0\n",
            "Molho Caipira: 0.0\n",
            "McFruit Uva (300 ml): 0.0\n",
            "McFruit Uva (500 ml): 0.0\n",
            "McFruit Maracujá (300 ml): 0.0\n",
            "McFruit Maracujá (500 ml): 0.0\n",
            "McFruit Limão (300 ml): 0.0\n",
            "McFruit Limão (500 ml): 0.0\n",
            "McFruit Laranja (300 ml): 0.0\n",
            "McFruit Laranja (500 ml): 0.0\n",
            "Água de Coco: 0.0\n",
            "Água de Coco do Ronald: 0.0\n",
            "Água Mineral: 0.0\n",
            "Água Mineral com gás: 0.0\n",
            "Coca-Cola (300 ml): 0.0\n",
            "Coca-Cola (500 ml): 0.0\n",
            "Coca-Cola (700 ml): 0.0\n",
            "Fanta (300 ml): 0.0\n",
            "Fanta (500 ml): 0.0\n",
            "Fanta (700 ml): 0.0\n",
            "Coca-Cola Light (300 ml): 0.0\n",
            "Coca-Cola Light (500 ml): 0.0\n",
            "Coca-Cola Light (700 ml): 0.0\n",
            "Guaraná (300 ml): 0.0\n",
            "Guaraná (500 ml): 0.0\n",
            "Guaraná (700 ml): 0.0\n",
            "Guaraná Zero Açúcar (300 ml): 0.0\n",
            "Guaraná Zero Açúcar (500 ml): 0.0\n",
            "Guaraná Zero Açúcar (700 ml): 0.0\n",
            "Casquinha Baunilha: 2.293577981651376\n",
            "Casquinha Chocolate: 0.0\n",
            "Casquinha Mista: 0.0\n",
            "ChocoMac Branco: 0.0\n",
            "ChocoMac Preto: 0.0\n",
            "McColosso Chocolate: 0.0\n",
            "McColosso Doce de Leite: 0.0\n",
            "Sundae Chocolate: 0.0\n",
            "Sundae Doce de Leite: 0.0\n",
            "Sundae Morango: 0.0\n",
            "Top Sundae Chocolate: 0.0\n",
            "Top Sundae Doce de Leite: 0.0\n",
            "Top Sundae Morango: 0.0\n",
            "McFlurry Paçoca e Chocolate: 0.0\n",
            "McFlurry M&M e Choc. Branco: 0.0\n",
            "Super McShake Choc. (300 ml): 0.0\n",
            "Super McShake Choc. (500 ml): 0.0\n",
            "Super McShake Coco (300 ml): 0.0\n",
            "Super McShake Coco (500 ml): 0.0\n",
            "Super McShake Flocos (300 ml): 0.0\n",
            "Super McShake Flocos (500 ml): 0.0\n",
            "Torta de Banana: 0.0\n",
            "Torta de Maçã: 0.0\n",
            "Iogurte com Frutas e Cereais: 0.0\n",
            "Maçã: 3.2110091743119265\n",
            "Achocolatado do Ronald: 0.0\n"
          ]
        }
      ]
    },
    {
      "cell_type": "markdown",
      "source": [
        "# 2) Análise de sensibilidade:"
      ],
      "metadata": {
        "id": "1Cnz-EQI2Hbx"
      }
    },
    {
      "cell_type": "code",
      "source": [
        "print(\"\\nIntervalos de Custos (Vetor de Custos):\")\n",
        "for variavel in model.getVars():\n",
        "  print(f\"Variável {variavel.VarName}:\")\n",
        "  print(f\"  Lower bound do custo (SAObjLow): {variavel.SAObjLow}\")\n",
        "  print(f\"  Upper bound do custo (SAObjUp): {variavel.SAObjUp}\")\n",
        "\n",
        "print(\"\\nIntervalos de Recursos (Vetor de Recursos):\")\n",
        "for restricao in model.getConstrs():\n",
        "  print(f\"Restrição {restricao.ConstrName}:\")\n",
        "  print(f\"  Lower bound do recurso (SARHSLow): {restricao.SARHSLow}\")\n",
        "  print(f\"  Upper bound do recurso (SARHSUp): {restricao.SARHSUp}\")\n",
        "  print(f\"  Variavel dual: {restricao.pi}\")\n",
        "  print(f\"  Folga primal: {restricao.slack}\")"
      ],
      "metadata": {
        "colab": {
          "base_uri": "https://localhost:8080/"
        },
        "id": "YaVONHIz2Jbz",
        "outputId": "1de44e79-9f77-478a-80e6-8cac057c6c37"
      },
      "execution_count": 11,
      "outputs": [
        {
          "output_type": "stream",
          "name": "stdout",
          "text": [
            "\n",
            "Intervalos de Custos (Vetor de Custos):\n",
            "Variável Big Mac:\n",
            "  Lower bound do custo (SAObjLow): 3.8954128440366977\n",
            "  Upper bound do custo (SAObjUp): inf\n",
            "Variável Big Tasty:\n",
            "  Lower bound do custo (SAObjLow): 6.279816513761467\n",
            "  Upper bound do custo (SAObjUp): inf\n",
            "Variável Quarterão com Queijo:\n",
            "  Lower bound do custo (SAObjLow): 5.077064220183487\n",
            "  Upper bound do custo (SAObjUp): inf\n",
            "Variável McNífico Bacon:\n",
            "  Lower bound do custo (SAObjLow): 5.4779816513761475\n",
            "  Upper bound do custo (SAObjUp): inf\n",
            "Variável Cheddar McMelt:\n",
            "  Lower bound do custo (SAObjLow): 4.676146788990826\n",
            "  Upper bound do custo (SAObjUp): inf\n",
            "Variável McFish:\n",
            "  Lower bound do custo (SAObjLow): 3.144036697247707\n",
            "  Upper bound do custo (SAObjUp): inf\n",
            "Variável McChicken:\n",
            "  Lower bound do custo (SAObjLow): 3.441284403669725\n",
            "  Upper bound do custo (SAObjUp): inf\n",
            "Variável Crispy Chicken:\n",
            "  Lower bound do custo (SAObjLow): 3.7724770642201837\n",
            "  Upper bound do custo (SAObjUp): inf\n",
            "Variável Chicken Grill:\n",
            "  Lower bound do custo (SAObjLow): 4.044954128440367\n",
            "  Upper bound do custo (SAObjUp): inf\n",
            "Variável McDuplo:\n",
            "  Lower bound do custo (SAObjLow): 2.802995391705069\n",
            "  Upper bound do custo (SAObjUp): 4.239198064293121\n",
            "Variável Cheeseburger:\n",
            "  Lower bound do custo (SAObjLow): 2.4467889908256883\n",
            "  Upper bound do custo (SAObjUp): inf\n",
            "Variável Hamburger:\n",
            "  Lower bound do custo (SAObjLow): 1.9926605504587156\n",
            "  Upper bound do custo (SAObjUp): inf\n",
            "Variável Queijo Quente:\n",
            "  Lower bound do custo (SAObjLow): 1.765137614678899\n",
            "  Upper bound do custo (SAObjUp): inf\n",
            "Variável McBacon Junior:\n",
            "  Lower bound do custo (SAObjLow): 2.8155963302752296\n",
            "  Upper bound do custo (SAObjUp): inf\n",
            "Variável Mini McSalad Shaker:\n",
            "  Lower bound do custo (SAObjLow): 0.2275229357798163\n",
            "  Upper bound do custo (SAObjUp): inf\n",
            "Variável Premium Salad:\n",
            "  Lower bound do custo (SAObjLow): 0.7146788990825677\n",
            "  Upper bound do custo (SAObjUp): inf\n",
            "Variável Premium Salad Grill:\n",
            "  Lower bound do custo (SAObjLow): 4.64862385321101\n",
            "  Upper bound do custo (SAObjUp): inf\n",
            "Variável Premium Salad Crispy:\n",
            "  Lower bound do custo (SAObjLow): 4.461467889908258\n",
            "  Upper bound do custo (SAObjUp): inf\n",
            "Variável Molho Salada Caseiro:\n",
            "  Lower bound do custo (SAObjLow): 0.6623853211009174\n",
            "  Upper bound do custo (SAObjUp): inf\n",
            "Variável Molho Salada Tomate Seco:\n",
            "  Lower bound do custo (SAObjLow): 0.17064220183486234\n",
            "  Upper bound do custo (SAObjUp): inf\n",
            "Variável Molho Salada Ranch:\n",
            "  Lower bound do custo (SAObjLow): 0.7000000000000002\n",
            "  Upper bound do custo (SAObjUp): inf\n",
            "Variável McFritas grande:\n",
            "  Lower bound do custo (SAObjLow): 2.2018348623853212\n",
            "  Upper bound do custo (SAObjUp): inf\n",
            "Variável McFritas média:\n",
            "  Lower bound do custo (SAObjLow): 1.61651376146789\n",
            "  Upper bound do custo (SAObjUp): inf\n",
            "Variável McFritas pequena:\n",
            "  Lower bound do custo (SAObjLow): 1.1009174311926606\n",
            "  Upper bound do custo (SAObjUp): inf\n",
            "Variável Chicken McNuggets (12 unid.):\n",
            "  Lower bound do custo (SAObjLow): 6.488073394495413\n",
            "  Upper bound do custo (SAObjUp): inf\n",
            "Variável Chicken McNuggets (4 unid.):\n",
            "  Lower bound do custo (SAObjLow): 2.081651376146789\n",
            "  Upper bound do custo (SAObjUp): inf\n",
            "Variável Chicken McNuggets (6 unid.):\n",
            "  Lower bound do custo (SAObjLow): 3.1825688073394502\n",
            "  Upper bound do custo (SAObjUp): inf\n",
            "Variável Molho Agridoce:\n",
            "  Lower bound do custo (SAObjLow): 0.2908256880733945\n",
            "  Upper bound do custo (SAObjUp): inf\n",
            "Variável Molho Barbecue:\n",
            "  Lower bound do custo (SAObjLow): 0.2908256880733945\n",
            "  Upper bound do custo (SAObjUp): inf\n",
            "Variável Molho Hot Mustard:\n",
            "  Lower bound do custo (SAObjLow): 0.2055045871559632\n",
            "  Upper bound do custo (SAObjUp): inf\n",
            "Variável Molho Caipira:\n",
            "  Lower bound do custo (SAObjLow): 0.24036697247706418\n",
            "  Upper bound do custo (SAObjUp): inf\n",
            "Variável McFruit Uva (300 ml):\n",
            "  Lower bound do custo (SAObjLow): 1.1091743119266055\n",
            "  Upper bound do custo (SAObjUp): inf\n",
            "Variável McFruit Uva (500 ml):\n",
            "  Lower bound do custo (SAObjLow): 1.8770642201834864\n",
            "  Upper bound do custo (SAObjUp): inf\n",
            "Variável McFruit Maracujá (300 ml):\n",
            "  Lower bound do custo (SAObjLow): 1.1091743119266055\n",
            "  Upper bound do custo (SAObjUp): inf\n",
            "Variável McFruit Maracujá (500 ml):\n",
            "  Lower bound do custo (SAObjLow): 1.8770642201834864\n",
            "  Upper bound do custo (SAObjUp): inf\n",
            "Variável McFruit Limão (300 ml):\n",
            "  Lower bound do custo (SAObjLow): 1.1091743119266055\n",
            "  Upper bound do custo (SAObjUp): inf\n",
            "Variável McFruit Limão (500 ml):\n",
            "  Lower bound do custo (SAObjLow): 1.7917431192660551\n",
            "  Upper bound do custo (SAObjUp): inf\n",
            "Variável McFruit Laranja (300 ml):\n",
            "  Lower bound do custo (SAObjLow): 1.1091743119266055\n",
            "  Upper bound do custo (SAObjUp): inf\n",
            "Variável McFruit Laranja (500 ml):\n",
            "  Lower bound do custo (SAObjLow): 1.8770642201834864\n",
            "  Upper bound do custo (SAObjUp): inf\n",
            "Variável Água de Coco:\n",
            "  Lower bound do custo (SAObjLow): 0.42660550458715596\n",
            "  Upper bound do custo (SAObjUp): inf\n",
            "Variável Água de Coco do Ronald:\n",
            "  Lower bound do custo (SAObjLow): 0.25596330275229384\n",
            "  Upper bound do custo (SAObjUp): inf\n",
            "Variável Água Mineral:\n",
            "  Lower bound do custo (SAObjLow): 0.0\n",
            "  Upper bound do custo (SAObjUp): inf\n",
            "Variável Água Mineral com gás:\n",
            "  Lower bound do custo (SAObjLow): 0.0\n",
            "  Upper bound do custo (SAObjUp): inf\n",
            "Variável Coca-Cola (300 ml):\n",
            "  Lower bound do custo (SAObjLow): 0.8532110091743119\n",
            "  Upper bound do custo (SAObjUp): inf\n",
            "Variável Coca-Cola (500 ml):\n",
            "  Lower bound do custo (SAObjLow): 1.4504587155963304\n",
            "  Upper bound do custo (SAObjUp): inf\n",
            "Variável Coca-Cola (700 ml):\n",
            "  Lower bound do custo (SAObjLow): 1.9623853211009175\n",
            "  Upper bound do custo (SAObjUp): inf\n",
            "Variável Fanta (300 ml):\n",
            "  Lower bound do custo (SAObjLow): 1.1091743119266055\n",
            "  Upper bound do custo (SAObjUp): inf\n",
            "Variável Fanta (500 ml):\n",
            "  Lower bound do custo (SAObjLow): 1.8770642201834864\n",
            "  Upper bound do custo (SAObjUp): inf\n",
            "Variável Fanta (700 ml):\n",
            "  Lower bound do custo (SAObjLow): 2.644954128440367\n",
            "  Upper bound do custo (SAObjUp): inf\n",
            "Variável Coca-Cola Light (300 ml):\n",
            "  Lower bound do custo (SAObjLow): 0.0\n",
            "  Upper bound do custo (SAObjUp): inf\n",
            "Variável Coca-Cola Light (500 ml):\n",
            "  Lower bound do custo (SAObjLow): 0.0\n",
            "  Upper bound do custo (SAObjUp): inf\n",
            "Variável Coca-Cola Light (700 ml):\n",
            "  Lower bound do custo (SAObjLow): 0.0\n",
            "  Upper bound do custo (SAObjUp): inf\n",
            "Variável Guaraná (300 ml):\n",
            "  Lower bound do custo (SAObjLow): 0.8532110091743119\n",
            "  Upper bound do custo (SAObjUp): inf\n",
            "Variável Guaraná (500 ml):\n",
            "  Lower bound do custo (SAObjLow): 1.4504587155963304\n",
            "  Upper bound do custo (SAObjUp): inf\n",
            "Variável Guaraná (700 ml):\n",
            "  Lower bound do custo (SAObjLow): 1.9623853211009175\n",
            "  Upper bound do custo (SAObjUp): inf\n",
            "Variável Guaraná Zero Açúcar (300 ml):\n",
            "  Lower bound do custo (SAObjLow): 0.0\n",
            "  Upper bound do custo (SAObjUp): inf\n",
            "Variável Guaraná Zero Açúcar (500 ml):\n",
            "  Lower bound do custo (SAObjLow): 0.0\n",
            "  Upper bound do custo (SAObjUp): inf\n",
            "Variável Guaraná Zero Açúcar (700 ml):\n",
            "  Lower bound do custo (SAObjLow): 0.0\n",
            "  Upper bound do custo (SAObjUp): inf\n",
            "Variável Casquinha Baunilha:\n",
            "  Lower bound do custo (SAObjLow): 0.7619047619047619\n",
            "  Upper bound do custo (SAObjUp): 1.5\n",
            "Variável Casquinha Chocolate:\n",
            "  Lower bound do custo (SAObjLow): 1.5\n",
            "  Upper bound do custo (SAObjUp): inf\n",
            "Variável Casquinha Mista:\n",
            "  Lower bound do custo (SAObjLow): 1.5\n",
            "  Upper bound do custo (SAObjUp): inf\n",
            "Variável ChocoMac Branco:\n",
            "  Lower bound do custo (SAObjLow): 1.4467889908256881\n",
            "  Upper bound do custo (SAObjUp): inf\n",
            "Variável ChocoMac Preto:\n",
            "  Lower bound do custo (SAObjLow): 1.3614678899082568\n",
            "  Upper bound do custo (SAObjUp): inf\n",
            "Variável McColosso Chocolate:\n",
            "  Lower bound do custo (SAObjLow): 1.996330275229358\n",
            "  Upper bound do custo (SAObjUp): inf\n",
            "Variável McColosso Doce de Leite:\n",
            "  Lower bound do custo (SAObjLow): 2.1192660550458715\n",
            "  Upper bound do custo (SAObjUp): inf\n",
            "Variável Sundae Chocolate:\n",
            "  Lower bound do custo (SAObjLow): 1.9137614678899086\n",
            "  Upper bound do custo (SAObjUp): inf\n",
            "Variável Sundae Doce de Leite:\n",
            "  Lower bound do custo (SAObjLow): 2.122018348623853\n",
            "  Upper bound do custo (SAObjUp): inf\n",
            "Variável Sundae Morango:\n",
            "  Lower bound do custo (SAObjLow): 1.9990825688073395\n",
            "  Upper bound do custo (SAObjUp): inf\n",
            "Variável Top Sundae Chocolate:\n",
            "  Lower bound do custo (SAObjLow): 2.7568807339449544\n",
            "  Upper bound do custo (SAObjUp): inf\n",
            "Variável Top Sundae Doce de Leite:\n",
            "  Lower bound do custo (SAObjLow): 3.088073394495413\n",
            "  Upper bound do custo (SAObjUp): inf\n",
            "Variável Top Sundae Morango:\n",
            "  Lower bound do custo (SAObjLow): 2.8422018348623856\n",
            "  Upper bound do custo (SAObjUp): inf\n",
            "Variável McFlurry Paçoca e Chocolate:\n",
            "  Lower bound do custo (SAObjLow): 2.4155963302752292\n",
            "  Upper bound do custo (SAObjUp): inf\n",
            "Variável McFlurry M&M e Choc. Branco:\n",
            "  Lower bound do custo (SAObjLow): 2.9651376146788992\n",
            "  Upper bound do custo (SAObjUp): inf\n",
            "Variável Super McShake Choc. (300 ml):\n",
            "  Lower bound do custo (SAObjLow): 2.6972477064220186\n",
            "  Upper bound do custo (SAObjUp): inf\n",
            "Variável Super McShake Choc. (500 ml):\n",
            "  Lower bound do custo (SAObjLow): 4.2605504587155965\n",
            "  Upper bound do custo (SAObjUp): inf\n",
            "Variável Super McShake Coco (300 ml):\n",
            "  Lower bound do custo (SAObjLow): 2.2201834862385317\n",
            "  Upper bound do custo (SAObjUp): inf\n",
            "Variável Super McShake Coco (500 ml):\n",
            "  Lower bound do custo (SAObjLow): 3.73302752293578\n",
            "  Upper bound do custo (SAObjUp): inf\n",
            "Variável Super McShake Flocos (300 ml):\n",
            "  Lower bound do custo (SAObjLow): 2.526605504587156\n",
            "  Upper bound do custo (SAObjUp): inf\n",
            "Variável Super McShake Flocos (500 ml):\n",
            "  Lower bound do custo (SAObjLow): 4.089908256880734\n",
            "  Upper bound do custo (SAObjUp): inf\n",
            "Variável Torta de Banana:\n",
            "  Lower bound do custo (SAObjLow): 1.1128440366972479\n",
            "  Upper bound do custo (SAObjUp): inf\n",
            "Variável Torta de Maçã:\n",
            "  Lower bound do custo (SAObjLow): 1.0779816513761469\n",
            "  Upper bound do custo (SAObjUp): inf\n",
            "Variável Iogurte com Frutas e Cereais:\n",
            "  Lower bound do custo (SAObjLow): 1.3110091743119265\n",
            "  Upper bound do custo (SAObjUp): inf\n",
            "Variável Maçã:\n",
            "  Lower bound do custo (SAObjLow): 0.5064935064935066\n",
            "  Upper bound do custo (SAObjUp): 2.303457446808511\n",
            "Variável Achocolatado do Ronald:\n",
            "  Lower bound do custo (SAObjLow): 1.3073394495412844\n",
            "  Upper bound do custo (SAObjUp): inf\n",
            "\n",
            "Intervalos de Recursos (Vetor de Recursos):\n",
            "Restrição nutriente_Energia:\n",
            "  Lower bound do recurso (SARHSLow): -inf\n",
            "  Upper bound do recurso (SARHSUp): 136.69724770642202\n",
            "  Variavel dual: 0.0\n",
            "  Folga primal: -36.69724770642202\n",
            "Restrição nutriente_Carb.:\n",
            "  Lower bound do recurso (SARHSLow): 82.1705426356589\n",
            "  Upper bound do recurso (SARHSUp): 296.42857142857144\n",
            "  Variavel dual: 0.0853211009174312\n",
            "  Folga primal: 0.0\n",
            "Restrição nutriente_Prot.:\n",
            "  Lower bound do recurso (SARHSLow): -inf\n",
            "  Upper bound do recurso (SARHSUp): 163.302752293578\n",
            "  Variavel dual: 0.0\n",
            "  Folga primal: -63.30275229357801\n",
            "Restrição nutriente_G. Total:\n",
            "  Lower bound do recurso (SARHSLow): -inf\n",
            "  Upper bound do recurso (SARHSUp): 214.67889908256882\n",
            "  Variavel dual: 0.0\n",
            "  Folga primal: -114.67889908256882\n",
            "Restrição nutriente_G. Sat.:\n",
            "  Lower bound do recurso (SARHSLow): -inf\n",
            "  Upper bound do recurso (SARHSUp): 286.69724770642205\n",
            "  Variavel dual: 0.0\n",
            "  Folga primal: -186.69724770642205\n",
            "Restrição nutriente_Colest.:\n",
            "  Lower bound do recurso (SARHSLow): 60.18465089440275\n",
            "  Upper bound do recurso (SARHSUp): 153.1914893617021\n",
            "  Variavel dual: 0.12293577981651377\n",
            "  Folga primal: 0.0\n",
            "Restrição nutriente_Fibra:\n",
            "  Lower bound do recurso (SARHSLow): 54.54545454545455\n",
            "  Upper bound do recurso (SARHSUp): 146.2962962962963\n",
            "  Variavel dual: 0.03486238532110091\n",
            "  Folga primal: 0.0\n",
            "Restrição nutriente_Sódio:\n",
            "  Lower bound do recurso (SARHSLow): -inf\n",
            "  Upper bound do recurso (SARHSUp): 190.8256880733945\n",
            "  Variavel dual: 0.0\n",
            "  Folga primal: -90.8256880733945\n",
            "Restrição nutriente_Cálcio:\n",
            "  Lower bound do recurso (SARHSLow): -inf\n",
            "  Upper bound do recurso (SARHSUp): 121.10091743119267\n",
            "  Variavel dual: 0.0\n",
            "  Folga primal: -21.10091743119267\n",
            "Restrição nutriente_Ferro:\n",
            "  Lower bound do recurso (SARHSLow): -inf\n",
            "  Upper bound do recurso (SARHSUp): 209.63302752293578\n",
            "  Variavel dual: 0.0\n",
            "  Folga primal: -109.63302752293579\n"
          ]
        }
      ]
    },
    {
      "cell_type": "markdown",
      "source": [
        "##Custos:\n",
        "* Todos os produtos que não estão na base têm Upper Bound ∞, ou seja, já não valem a pena e continuarão assim se os seus custos aumentarem.\n",
        "\n",
        "* Quanto menos nutrientes um alimento fornece, menor deve ser o seu preço para que valha a pena entrar na base. Portanto, o Lower Bound destes alimentos é menor.\n",
        "\n",
        "* Alimentos que têm nutrientes próximos de zero, como água mineral e tipos de Coca-Cola, têm 0 de Lower Bound, pois não são eficazes para atingir a meta diária de nutrientes mesmo que os seus preços forem R\\$0,00.\n",
        "\n",
        "* Maçã, casquinha de baunilha e McDuplo fazem parte da base, mas sairão dela de os seus preços passarem de R\\$2,30, R\\$1,50 e R\\$4,24, respectivamente. Por outro lado, estes alimentos terão um custo benefício ainda maior e também mudarão a base selecionado se os seus preços forem menores que R\\$0,57, R\\$0,76 e R\\$2,80. (todos os valores foram aproximados para 2 casas decimais)\n",
        "\n",
        "##Recursos:\n",
        "* Nutrientes com Lower Bound -∞ indicam que a base não será alterada mesmo que estes não sejam necessários, pois os alimentos escolhidos são os quais possuem o melhor custo-benefício para o restante deles.\n",
        "\n",
        "* Colesterol e Fibra possuem Lower Bounds iguais a 60,18465089440275 e 54,54545454545455, respectivamente. Isto significa que, caso as quantidades necessárias destes nutrientes forem menores do que estes valores, a base será alterada, pois eles terão menos influência no resultado ótimo e outros alimentos que têm um custo-benefício maior para outros nutrientes entrarão na base.\n",
        "\n",
        "* Todos os nutrientes possuem um Upper Bound finito, então existe um conjunto de alimentos com custo-benefício maior para um aumento suficiente de qualquer nutriente.\n",
        "\n",
        "* Apenas as variáveis duais de Colesterol e Fibra não são nulas, ou seja, somente a variação destes nutrientes pode alterar o valor da função objetivo. O valor da variável dual do Colesterol é maior, então a variação dele tem mais influência sobre o valor da função objetivo."
      ],
      "metadata": {
        "id": "t-LW5hF2Kp3U"
      }
    },
    {
      "cell_type": "markdown",
      "source": [
        "#3) Modelo para dieta ótima vegetariana:"
      ],
      "metadata": {
        "id": "3RaYjSba16q8"
      }
    },
    {
      "cell_type": "code",
      "source": [
        "model_vegetarian = Model(\"foods_McDonalds_vegetarian\")"
      ],
      "metadata": {
        "id": "q7qTXaCgu3Vs"
      },
      "execution_count": 12,
      "outputs": []
    },
    {
      "cell_type": "markdown",
      "source": [
        "## Declaração das variáveis de decisão que indicam o número de alimentos vegetarianos de cada tipo comprados:"
      ],
      "metadata": {
        "id": "yh_SnTrA_uws"
      }
    },
    {
      "cell_type": "code",
      "source": [
        "var_product_vegetarian = {}\n",
        "\n",
        "vegetarian_products = []\n",
        "for product in products: # Seleciona os produtos veganos dentre todos os produtos\n",
        "  if(food[product][\"veg\"] == \"true\"):\n",
        "    vegetarian_products.append(product)\n",
        "\n",
        "for product in vegetarian_products:\n",
        "    var_product_vegetarian[product] = model_vegetarian.addVar(vtype=GRB.CONTINUOUS, name=product, lb=0)"
      ],
      "metadata": {
        "id": "ftErZekVvbjL"
      },
      "execution_count": 13,
      "outputs": []
    },
    {
      "cell_type": "markdown",
      "source": [
        "## Função objetivo: minimiza o custo de compra dos alimentos:"
      ],
      "metadata": {
        "id": "ddt3P-Zm_8TJ"
      }
    },
    {
      "cell_type": "code",
      "source": [
        "obj_sum = quicksum(var_product_vegetarian[product] * food[product][\"cost\"] for product in vegetarian_products)\n",
        "\n",
        "model_vegetarian.setObjective(obj_sum, GRB.MINIMIZE)"
      ],
      "metadata": {
        "id": "wuyX2-2cvOu3"
      },
      "execution_count": 14,
      "outputs": []
    },
    {
      "cell_type": "markdown",
      "source": [
        "## Restrição\n",
        "\n",
        "* A oferta nutricional dos alimentos comprados deve ser maior ou igual ao valor diário mínimo:\n"
      ],
      "metadata": {
        "id": "Nr_ls_FMAGWb"
      }
    },
    {
      "cell_type": "code",
      "source": [
        "for nutrient in composition_nutr:\n",
        "\n",
        "  nutr_constr_veg = quicksum(var_product_vegetarian[product] * amnt[product][nutrient] for product in vegetarian_products)\n",
        "\n",
        "  model_vegetarian.addConstr(nutr_constr_veg >= VDR_MIN, name=f'nutriente_{nutrient}')"
      ],
      "metadata": {
        "id": "vG4pNkZqvUY3"
      },
      "execution_count": 15,
      "outputs": []
    },
    {
      "cell_type": "markdown",
      "source": [
        "## Como mostrado nas restrições, o modelo é idêntico ao modelo anterior, com a diferença que este modelo considera apenas os alimentos vegetarianos, excluindo os que não são vegetarianos.\n",
        "\n",
        "## Otimização do modelo:"
      ],
      "metadata": {
        "id": "ZN1oyhmZAHuI"
      }
    },
    {
      "cell_type": "code",
      "source": [
        "model_vegetarian.optimize()"
      ],
      "metadata": {
        "colab": {
          "base_uri": "https://localhost:8080/"
        },
        "id": "hUYoT77xxPu6",
        "outputId": "8a4000c2-5d6b-448a-9bd5-e507aebd5ba5",
        "collapsed": true
      },
      "execution_count": 16,
      "outputs": [
        {
          "output_type": "stream",
          "name": "stdout",
          "text": [
            "Gurobi Optimizer version 12.0.0 build v12.0.0rc1 (linux64 - \"Ubuntu 22.04.3 LTS\")\n",
            "\n",
            "CPU model: Intel(R) Xeon(R) CPU @ 2.20GHz, instruction set [SSE2|AVX|AVX2]\n",
            "Thread count: 1 physical cores, 2 logical processors, using up to 2 threads\n",
            "\n",
            "Optimize a model with 10 rows, 67 columns and 464 nonzeros\n",
            "Model fingerprint: 0xdda3ee70\n",
            "Coefficient statistics:\n",
            "  Matrix range     [1e+00, 1e+02]\n",
            "  Objective range  [1e+00, 1e+01]\n",
            "  Bounds range     [0e+00, 0e+00]\n",
            "  RHS range        [1e+02, 1e+02]\n",
            "Presolve removed 0 rows and 15 columns\n",
            "Presolve time: 0.01s\n",
            "Presolved: 10 rows, 52 columns, 415 nonzeros\n",
            "\n",
            "Iteration    Objective       Primal Inf.    Dual Inf.      Time\n",
            "       0    0.0000000e+00   8.750000e+01   0.000000e+00      0s\n",
            "       4    3.9634146e+01   0.000000e+00   0.000000e+00      0s\n",
            "\n",
            "Solved in 4 iterations and 0.01 seconds (0.00 work units)\n",
            "Optimal objective  3.963414634e+01\n"
          ]
        }
      ]
    },
    {
      "cell_type": "markdown",
      "source": [
        "## Impressão das soluções do modelo:"
      ],
      "metadata": {
        "id": "_nLbMxREAsC6"
      }
    },
    {
      "cell_type": "code",
      "source": [
        "print(f\"Valor ótimo: {model_vegetarian.objVal}\")\n",
        "for product in vegetarian_products:\n",
        "  print(f\"{product}: {var_product_vegetarian[product].x}\")"
      ],
      "metadata": {
        "colab": {
          "base_uri": "https://localhost:8080/"
        },
        "id": "h8K2NndTxSYW",
        "outputId": "8dd00fc3-adc4-40a6-feab-6f56238cc8ff",
        "collapsed": true
      },
      "execution_count": 17,
      "outputs": [
        {
          "output_type": "stream",
          "name": "stdout",
          "text": [
            "Valor ótimo: 39.63414634146341\n",
            "Queijo Quente: 0.0\n",
            "Mini McSalad Shaker: 0.0\n",
            "Premium Salad: 0.0\n",
            "Premium Salad Crispy: 0.0\n",
            "Molho Salada Caseiro: 0.0\n",
            "Molho Salada Tomate Seco: 0.0\n",
            "Molho Salada Ranch: 7.317073170731705\n",
            "McFritas grande: 0.0\n",
            "McFritas média: 0.0\n",
            "McFritas pequena: 0.0\n",
            "Molho Agridoce: 0.0\n",
            "Molho Barbecue: 0.0\n",
            "Molho Hot Mustard: 0.0\n",
            "Molho Caipira: 0.0\n",
            "McFruit Uva (300 ml): 0.0\n",
            "McFruit Uva (500 ml): 0.0\n",
            "McFruit Maracujá (300 ml): 0.0\n",
            "McFruit Maracujá (500 ml): 0.0\n",
            "McFruit Limão (300 ml): 0.0\n",
            "McFruit Limão (500 ml): 0.0\n",
            "McFruit Laranja (300 ml): 0.0\n",
            "McFruit Laranja (500 ml): 0.0\n",
            "Água de Coco: 0.0\n",
            "Água de Coco do Ronald: 0.0\n",
            "Água Mineral: 0.0\n",
            "Água Mineral com gás: 0.0\n",
            "Coca-Cola (300 ml): 0.0\n",
            "Coca-Cola (500 ml): 0.0\n",
            "Coca-Cola (700 ml): 0.0\n",
            "Fanta (300 ml): 0.0\n",
            "Fanta (500 ml): 0.0\n",
            "Fanta (700 ml): 0.0\n",
            "Coca-Cola Light (300 ml): 0.0\n",
            "Coca-Cola Light (500 ml): 0.0\n",
            "Coca-Cola Light (700 ml): 0.0\n",
            "Guaraná (300 ml): 0.0\n",
            "Guaraná (500 ml): 0.0\n",
            "Guaraná (700 ml): 0.0\n",
            "Guaraná Zero Açúcar (300 ml): 0.0\n",
            "Guaraná Zero Açúcar (500 ml): 0.0\n",
            "Guaraná Zero Açúcar (700 ml): 0.0\n",
            "Casquinha Baunilha: 13.658536585365857\n",
            "Casquinha Chocolate: 2.1951219512195115\n",
            "Casquinha Mista: 0.0\n",
            "ChocoMac Branco: 0.0\n",
            "ChocoMac Preto: 0.0\n",
            "McColosso Chocolate: 0.0\n",
            "McColosso Doce de Leite: 0.0\n",
            "Sundae Chocolate: 0.0\n",
            "Sundae Doce de Leite: 0.0\n",
            "Sundae Morango: 0.0\n",
            "Top Sundae Chocolate: 0.0\n",
            "Top Sundae Doce de Leite: 0.0\n",
            "Top Sundae Morango: 0.0\n",
            "McFlurry Paçoca e Chocolate: 0.0\n",
            "McFlurry M&M e Choc. Branco: 0.0\n",
            "Super McShake Choc. (300 ml): 0.0\n",
            "Super McShake Choc. (500 ml): 0.0\n",
            "Super McShake Coco (300 ml): 0.0\n",
            "Super McShake Coco (500 ml): 0.0\n",
            "Super McShake Flocos (300 ml): 0.0\n",
            "Super McShake Flocos (500 ml): 0.0\n",
            "Torta de Banana: 0.0\n",
            "Torta de Maçã: 0.0\n",
            "Iogurte com Frutas e Cereais: 0.0\n",
            "Maçã: 4.878048780487804\n",
            "Achocolatado do Ronald: 0.0\n"
          ]
        }
      ]
    },
    {
      "cell_type": "markdown",
      "source": [
        "#4) Modelo para dieta ótima de alimentos únicos:"
      ],
      "metadata": {
        "id": "lHHsKy191Qbi"
      }
    },
    {
      "cell_type": "code",
      "source": [
        "model_unique = Model(\"foods_McDonalds_unique\")"
      ],
      "metadata": {
        "id": "hbZdTrjqxU28"
      },
      "execution_count": 18,
      "outputs": []
    },
    {
      "cell_type": "markdown",
      "source": [
        "## Este modelo é muito semelhante ao primeiro modelo, sendo a única diferença é que as variáveis neste modelo são configuradas como binárias, pois o alimento só pode ser consumido uma única vez, ou seja, ou ele é consumido (1) ou não é (0). Todo o resto se mantém."
      ],
      "metadata": {
        "id": "Tzj0yI6PAuVw"
      }
    },
    {
      "cell_type": "code",
      "source": [
        "var_product_unique = {}\n",
        "for product in products:\n",
        "  var_product_unique[product] = model_unique.addVar(vtype=GRB.BINARY, name=product, lb=0) # Variáveis binárias"
      ],
      "metadata": {
        "id": "9faUxEGSz2KT"
      },
      "execution_count": 19,
      "outputs": []
    },
    {
      "cell_type": "code",
      "source": [
        "obj_sum = quicksum(var_product_unique[product] * food[product][\"cost\"] for product in products)\n",
        "\n",
        "model_unique.setObjective(obj_sum, GRB.MINIMIZE)"
      ],
      "metadata": {
        "id": "3MFsIZ4J0QJQ"
      },
      "execution_count": 20,
      "outputs": []
    },
    {
      "cell_type": "code",
      "source": [
        "for nutrient in composition_nutr:\n",
        "\n",
        "  nutr_constr = quicksum(var_product_unique[product] * amnt[product][nutrient] for product in products)\n",
        "\n",
        "  model_unique.addConstr(nutr_constr >= VDR_MIN, name=f'nutriente_{nutrient}')"
      ],
      "metadata": {
        "id": "AiqQjxWS0VO6"
      },
      "execution_count": 21,
      "outputs": []
    },
    {
      "cell_type": "markdown",
      "source": [
        "## Otimização do modelo:"
      ],
      "metadata": {
        "id": "Vym9QLAiBX9u"
      }
    },
    {
      "cell_type": "code",
      "source": [
        "model_unique.optimize()"
      ],
      "metadata": {
        "colab": {
          "base_uri": "https://localhost:8080/"
        },
        "id": "0pjqPN9G0oJL",
        "outputId": "7c9ff61d-68a8-48b6-ef01-08e5d674404e",
        "collapsed": true
      },
      "execution_count": 22,
      "outputs": [
        {
          "output_type": "stream",
          "name": "stdout",
          "text": [
            "Gurobi Optimizer version 12.0.0 build v12.0.0rc1 (linux64 - \"Ubuntu 22.04.3 LTS\")\n",
            "\n",
            "CPU model: Intel(R) Xeon(R) CPU @ 2.20GHz, instruction set [SSE2|AVX|AVX2]\n",
            "Thread count: 1 physical cores, 2 logical processors, using up to 2 threads\n",
            "\n",
            "Optimize a model with 10 rows, 84 columns and 634 nonzeros\n",
            "Model fingerprint: 0x27ae825d\n",
            "Variable types: 0 continuous, 84 integer (84 binary)\n",
            "Coefficient statistics:\n",
            "  Matrix range     [1e+00, 1e+02]\n",
            "  Objective range  [1e+00, 1e+01]\n",
            "  Bounds range     [1e+00, 1e+00]\n",
            "  RHS range        [1e+02, 1e+02]\n",
            "Found heuristic solution: objective 94.1500000\n",
            "Presolve removed 1 rows and 5 columns\n",
            "Presolve time: 0.00s\n",
            "Presolved: 9 rows, 79 columns, 561 nonzeros\n",
            "Variable types: 0 continuous, 79 integer (79 binary)\n",
            "\n",
            "Root relaxation: objective 3.156278e+01, 7 iterations, 0.00 seconds (0.00 work units)\n",
            "\n",
            "    Nodes    |    Current Node    |     Objective Bounds      |     Work\n",
            " Expl Unexpl |  Obj  Depth IntInf | Incumbent    BestBd   Gap | It/Node Time\n",
            "\n",
            "     0     0   31.56278    0    3   94.15000   31.56278  66.5%     -    0s\n",
            "H    0     0                      40.5000000   31.56278  22.1%     -    0s\n",
            "H    0     0                      36.5000000   31.56278  13.5%     -    0s\n",
            "H    0     0                      35.0500000   31.56278  9.95%     -    0s\n",
            "H    0     0                      34.0500000   31.56278  7.30%     -    0s\n",
            "H    0     0                      33.3500000   31.56278  5.36%     -    0s\n",
            "H    0     0                      32.5500000   31.56278  3.03%     -    0s\n",
            "     0     0   31.69526    0    5   32.55000   31.69526  2.63%     -    0s\n",
            "     0     0   31.69526    0    3   32.55000   31.69526  2.63%     -    0s\n",
            "     0     0   31.69526    0    5   32.55000   31.69526  2.63%     -    0s\n",
            "     0     0   31.95818    0    3   32.55000   31.95818  1.82%     -    0s\n",
            "     0     0   31.95996    0    5   32.55000   31.95996  1.81%     -    0s\n",
            "     0     0   31.96232    0    6   32.55000   31.96232  1.81%     -    0s\n",
            "     0     0   31.99346    0    7   32.55000   31.99346  1.71%     -    0s\n",
            "     0     0   32.05999    0    7   32.55000   32.05999  1.51%     -    0s\n",
            "     0     0   32.06004    0    9   32.55000   32.06004  1.51%     -    0s\n",
            "     0     0   32.06042    0    9   32.55000   32.06042  1.50%     -    0s\n",
            "     0     0   32.09315    0   10   32.55000   32.09315  1.40%     -    0s\n",
            "     0     0   32.10991    0   10   32.55000   32.10991  1.35%     -    0s\n",
            "     0     0   32.10991    0   11   32.55000   32.10991  1.35%     -    0s\n",
            "     0     0   32.11324    0   11   32.55000   32.11324  1.34%     -    0s\n",
            "     0     0   32.12914    0   10   32.55000   32.12914  1.29%     -    0s\n",
            "     0     0   32.14252    0    8   32.55000   32.14252  1.25%     -    0s\n",
            "     0     0   32.14252    0    8   32.55000   32.14252  1.25%     -    0s\n",
            "     0     0   32.14252    0    9   32.55000   32.14252  1.25%     -    0s\n",
            "     0     0   32.15003    0   10   32.55000   32.15003  1.23%     -    0s\n",
            "     0     0   32.16187    0   11   32.55000   32.16187  1.19%     -    0s\n",
            "     0     0   32.16189    0   12   32.55000   32.16189  1.19%     -    0s\n",
            "     0     0   32.16189    0   12   32.55000   32.16189  1.19%     -    0s\n",
            "     0     0   32.19565    0    9   32.55000   32.19565  1.09%     -    0s\n",
            "     0     0   32.19565    0   10   32.55000   32.19565  1.09%     -    0s\n",
            "     0     0   32.20058    0   10   32.55000   32.20058  1.07%     -    0s\n",
            "     0     0   32.20657    0   10   32.55000   32.20657  1.06%     -    0s\n",
            "     0     0   32.20829    0   11   32.55000   32.20829  1.05%     -    0s\n",
            "     0     0   32.20967    0   11   32.55000   32.20967  1.05%     -    0s\n",
            "     0     0   32.21051    0   12   32.55000   32.21051  1.04%     -    0s\n",
            "     0     0   32.21283    0   11   32.55000   32.21283  1.04%     -    0s\n",
            "     0     0   32.22218    0   10   32.55000   32.22218  1.01%     -    0s\n",
            "     0     0   32.22460    0   11   32.55000   32.22460  1.00%     -    0s\n",
            "     0     0   32.22460    0   11   32.55000   32.22460  1.00%     -    0s\n",
            "     0     0   32.23753    0   11   32.55000   32.23753  0.96%     -    0s\n",
            "     0     0   32.23753    0   12   32.55000   32.23753  0.96%     -    0s\n",
            "     0     0   32.24317    0   10   32.55000   32.24317  0.94%     -    0s\n",
            "     0     0   32.25112    0   10   32.55000   32.25112  0.92%     -    0s\n",
            "     0     0   32.25285    0   11   32.55000   32.25285  0.91%     -    0s\n",
            "     0     0   32.25557    0   10   32.55000   32.25557  0.90%     -    0s\n",
            "     0     0   32.26853    0   10   32.55000   32.26853  0.86%     -    0s\n",
            "     0     0   32.26936    0   11   32.55000   32.26936  0.86%     -    0s\n",
            "     0     0   32.26967    0   12   32.55000   32.26967  0.86%     -    0s\n",
            "     0     0   32.28217    0    9   32.55000   32.28217  0.82%     -    0s\n",
            "     0     0   32.28727    0   11   32.55000   32.28727  0.81%     -    0s\n",
            "     0     0   32.30901    0    7   32.55000   32.30901  0.74%     -    0s\n",
            "     0     0   32.30901    0    8   32.55000   32.30901  0.74%     -    0s\n",
            "     0     0   32.31201    0   10   32.55000   32.31201  0.73%     -    0s\n",
            "     0     0   32.31335    0   11   32.55000   32.31335  0.73%     -    0s\n",
            "     0     0   32.33035    0   10   32.55000   32.33035  0.67%     -    0s\n",
            "     0     0   32.33135    0   12   32.55000   32.33135  0.67%     -    0s\n",
            "     0     0   32.33135    0   12   32.55000   32.33135  0.67%     -    0s\n",
            "     0     0   32.33140    0   14   32.55000   32.33140  0.67%     -    0s\n",
            "     0     0   32.33310    0   13   32.55000   32.33310  0.67%     -    0s\n",
            "     0     0   32.33426    0   10   32.55000   32.33426  0.66%     -    0s\n",
            "     0     0   32.33429    0   13   32.55000   32.33429  0.66%     -    0s\n",
            "     0     0   32.33429    0   14   32.55000   32.33429  0.66%     -    0s\n",
            "     0     0   32.33697    0   13   32.55000   32.33697  0.65%     -    0s\n",
            "     0     0   32.33732    0   14   32.55000   32.33732  0.65%     -    0s\n",
            "     0     0   32.33732    0   14   32.55000   32.33732  0.65%     -    0s\n",
            "     0     0   32.34396    0   13   32.55000   32.34396  0.63%     -    0s\n",
            "     0     0   32.34483    0   15   32.55000   32.34483  0.63%     -    0s\n",
            "     0     0   32.34636    0   14   32.55000   32.34636  0.63%     -    0s\n",
            "     0     0   32.34636    0   14   32.55000   32.34636  0.63%     -    0s\n",
            "     0     0   32.34943    0   14   32.55000   32.34943  0.62%     -    0s\n",
            "     0     0   32.34944    0   14   32.55000   32.34944  0.62%     -    0s\n",
            "     0     0   32.34945    0   15   32.55000   32.34945  0.62%     -    0s\n",
            "     0     0   32.34998    0   15   32.55000   32.34998  0.61%     -    0s\n",
            "     0     0   32.35107    0   14   32.55000   32.35107  0.61%     -    0s\n",
            "     0     0   32.35139    0   15   32.55000   32.35139  0.61%     -    0s\n",
            "     0     0   32.35139    0   16   32.55000   32.35139  0.61%     -    0s\n",
            "     0     0   32.35149    0   16   32.55000   32.35149  0.61%     -    0s\n",
            "     0     2   32.35883    0   15   32.55000   32.35883  0.59%     -    0s\n",
            "\n",
            "Cutting planes:\n",
            "  Gomory: 1\n",
            "  Cover: 1\n",
            "  MIR: 8\n",
            "  StrongCG: 3\n",
            "\n",
            "Explored 11 nodes (256 simplex iterations) in 0.36 seconds (0.02 work units)\n",
            "Thread count was 2 (of 2 available processors)\n",
            "\n",
            "Solution count 7: 32.55 33.35 34.05 ... 94.15\n",
            "\n",
            "Optimal solution found (tolerance 1.00e-04)\n",
            "Best objective 3.255000000000e+01, best bound 3.255000000000e+01, gap 0.0000%\n"
          ]
        }
      ]
    },
    {
      "cell_type": "markdown",
      "source": [
        "## Impressão das soluções do modelo:"
      ],
      "metadata": {
        "id": "ztbtoPX8BqEl"
      }
    },
    {
      "cell_type": "code",
      "source": [
        "print(f\"Valor ótimo: {model_unique.objVal}\")\n",
        "for product in products:\n",
        "  print(f\"{product}: {var_product_unique[product].x}\")"
      ],
      "metadata": {
        "colab": {
          "base_uri": "https://localhost:8080/"
        },
        "id": "KU9N7ORn0rWZ",
        "outputId": "2ca32026-49f7-4324-c814-485af0e52753",
        "collapsed": true
      },
      "execution_count": 23,
      "outputs": [
        {
          "output_type": "stream",
          "name": "stdout",
          "text": [
            "Valor ótimo: 32.55\n",
            "Big Mac: -0.0\n",
            "Big Tasty: 0.0\n",
            "Quarterão com Queijo: 1.0\n",
            "McNífico Bacon: 1.0\n",
            "Cheddar McMelt: -0.0\n",
            "McFish: -0.0\n",
            "McChicken: -0.0\n",
            "Crispy Chicken: -0.0\n",
            "Chicken Grill: -0.0\n",
            "McDuplo: 1.0\n",
            "Cheeseburger: 1.0\n",
            "Hamburger: 1.0\n",
            "Queijo Quente: 0.0\n",
            "McBacon Junior: 0.0\n",
            "Mini McSalad Shaker: -0.0\n",
            "Premium Salad: -0.0\n",
            "Premium Salad Grill: -0.0\n",
            "Premium Salad Crispy: -0.0\n",
            "Molho Salada Caseiro: -0.0\n",
            "Molho Salada Tomate Seco: -0.0\n",
            "Molho Salada Ranch: -0.0\n",
            "McFritas grande: 1.0\n",
            "McFritas média: 0.0\n",
            "McFritas pequena: 0.0\n",
            "Chicken McNuggets (12 unid.): -0.0\n",
            "Chicken McNuggets (4 unid.): -0.0\n",
            "Chicken McNuggets (6 unid.): -0.0\n",
            "Molho Agridoce: -0.0\n",
            "Molho Barbecue: -0.0\n",
            "Molho Hot Mustard: -0.0\n",
            "Molho Caipira: -0.0\n",
            "McFruit Uva (300 ml): -0.0\n",
            "McFruit Uva (500 ml): -0.0\n",
            "McFruit Maracujá (300 ml): -0.0\n",
            "McFruit Maracujá (500 ml): -0.0\n",
            "McFruit Limão (300 ml): -0.0\n",
            "McFruit Limão (500 ml): -0.0\n",
            "McFruit Laranja (300 ml): -0.0\n",
            "McFruit Laranja (500 ml): -0.0\n",
            "Água de Coco: -0.0\n",
            "Água de Coco do Ronald: -0.0\n",
            "Água Mineral: 0.0\n",
            "Água Mineral com gás: 0.0\n",
            "Coca-Cola (300 ml): -0.0\n",
            "Coca-Cola (500 ml): -0.0\n",
            "Coca-Cola (700 ml): -0.0\n",
            "Fanta (300 ml): -0.0\n",
            "Fanta (500 ml): -0.0\n",
            "Fanta (700 ml): -0.0\n",
            "Coca-Cola Light (300 ml): -0.0\n",
            "Coca-Cola Light (500 ml): -0.0\n",
            "Coca-Cola Light (700 ml): -0.0\n",
            "Guaraná (300 ml): -0.0\n",
            "Guaraná (500 ml): -0.0\n",
            "Guaraná (700 ml): -0.0\n",
            "Guaraná Zero Açúcar (300 ml): 0.0\n",
            "Guaraná Zero Açúcar (500 ml): 0.0\n",
            "Guaraná Zero Açúcar (700 ml): 0.0\n",
            "Casquinha Baunilha: 1.0\n",
            "Casquinha Chocolate: 0.0\n",
            "Casquinha Mista: -0.0\n",
            "ChocoMac Branco: 1.0\n",
            "ChocoMac Preto: -0.0\n",
            "McColosso Chocolate: -0.0\n",
            "McColosso Doce de Leite: 0.0\n",
            "Sundae Chocolate: -0.0\n",
            "Sundae Doce de Leite: -0.0\n",
            "Sundae Morango: -0.0\n",
            "Top Sundae Chocolate: -0.0\n",
            "Top Sundae Doce de Leite: -0.0\n",
            "Top Sundae Morango: -0.0\n",
            "McFlurry Paçoca e Chocolate: -0.0\n",
            "McFlurry M&M e Choc. Branco: -0.0\n",
            "Super McShake Choc. (300 ml): -0.0\n",
            "Super McShake Choc. (500 ml): -0.0\n",
            "Super McShake Coco (300 ml): -0.0\n",
            "Super McShake Coco (500 ml): -0.0\n",
            "Super McShake Flocos (300 ml): -0.0\n",
            "Super McShake Flocos (500 ml): -0.0\n",
            "Torta de Banana: -0.0\n",
            "Torta de Maçã: -0.0\n",
            "Iogurte com Frutas e Cereais: -0.0\n",
            "Maçã: 1.0\n",
            "Achocolatado do Ronald: 0.0\n"
          ]
        }
      ]
    }
  ]
}
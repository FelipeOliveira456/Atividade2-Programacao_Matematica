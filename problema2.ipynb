{
  "nbformat": 4,
  "nbformat_minor": 0,
  "metadata": {
    "colab": {
      "provenance": []
    },
    "kernelspec": {
      "name": "python3",
      "display_name": "Python 3"
    },
    "language_info": {
      "name": "python"
    }
  },
  "cells": [
    {
      "cell_type": "markdown",
      "source": [
        "# GCC118 - Programação Matemática\n",
        "## Universidade Federal de Lavras\n",
        "### Problema 2\n",
        "#### Aluno: Eduardo Cesar Cauduro Coelho\n",
        "#### Matrícula: 202310175\n",
        "#### Aluno: Felipe Geraldo de Oliveira\n",
        "#### Matrícula: 202310174"
      ],
      "metadata": {
        "id": "3K0dnu20Y7pR"
      }
    },
    {
      "cell_type": "markdown",
      "source": [
        "## Instalação da biblioteca Gurobipy\n",
        "\n",
        "\n",
        "\n"
      ],
      "metadata": {
        "id": "Vh_YrhTsZJWb"
      }
    },
    {
      "cell_type": "code",
      "execution_count": 1,
      "metadata": {
        "colab": {
          "base_uri": "https://localhost:8080/"
        },
        "id": "1ZiuvrpPY6gn",
        "outputId": "17ec2f5c-3a7d-4187-a6b2-e4a870b13459"
      },
      "outputs": [
        {
          "output_type": "stream",
          "name": "stdout",
          "text": [
            "Collecting gurobipy\n",
            "  Downloading gurobipy-12.0.0-cp310-cp310-manylinux2014_x86_64.manylinux_2_17_x86_64.whl.metadata (15 kB)\n",
            "Downloading gurobipy-12.0.0-cp310-cp310-manylinux2014_x86_64.manylinux_2_17_x86_64.whl (14.4 MB)\n",
            "\u001b[2K   \u001b[90m━━━━━━━━━━━━━━━━━━━━━━━━━━━━━━━━━━━━━━━━\u001b[0m \u001b[32m14.4/14.4 MB\u001b[0m \u001b[31m55.0 MB/s\u001b[0m eta \u001b[36m0:00:00\u001b[0m\n",
            "\u001b[?25hInstalling collected packages: gurobipy\n",
            "Successfully installed gurobipy-12.0.0\n"
          ]
        }
      ],
      "source": [
        "!pip install gurobipy"
      ]
    },
    {
      "cell_type": "markdown",
      "source": [
        "## Declaração dos parâmetros de capacidades das arestas do grafo:\n",
        "\n"
      ],
      "metadata": {
        "id": "TMpO3CEvZaLB"
      }
    },
    {
      "cell_type": "code",
      "source": [
        "vertices = [\"A\", \"B\", \"Sul\", \"Norte\"]\n",
        "\n",
        "arestas = {\n",
        "    \"A\": {\"Norte\": 300, \"Sul\": 500},\n",
        "    \"Sul\": {\"Norte\": 300, \"B\": 300},\n",
        "    \"Norte\": {\"B\": 400},\n",
        "    \"B\": {}\n",
        "}\n"
      ],
      "metadata": {
        "id": "r59tQ_BvZSYT"
      },
      "execution_count": 2,
      "outputs": []
    },
    {
      "cell_type": "markdown",
      "source": [
        "## Criação do modelo:"
      ],
      "metadata": {
        "id": "547AxOdeanib"
      }
    },
    {
      "cell_type": "code",
      "source": [
        "from gurobipy import Model, GRB, quicksum\n",
        "\n",
        "modelo = Model(\"transporte\")"
      ],
      "metadata": {
        "colab": {
          "base_uri": "https://localhost:8080/"
        },
        "id": "oBwutetKadAO",
        "outputId": "c8a5459a-078b-4972-848a-b36715889664"
      },
      "execution_count": 3,
      "outputs": [
        {
          "output_type": "stream",
          "name": "stdout",
          "text": [
            "Restricted license - for non-production use only - expires 2026-11-23\n"
          ]
        }
      ]
    },
    {
      "cell_type": "markdown",
      "source": [
        "## Declaração das variáveis de decisão que indicam o fluxo de barris de óleo entre um vértice e outro, caso haja a ligação."
      ],
      "metadata": {
        "id": "qh_jwIXKhdDm"
      }
    },
    {
      "cell_type": "code",
      "source": [
        "variaveis = {}\n",
        "\n",
        "for origem in arestas:\n",
        "    for destino in arestas[origem]:\n",
        "        variaveis[(origem, destino)] = modelo.addVar(vtype=GRB.CONTINUOUS, name=f\"{origem}_{destino}\", lb=0)"
      ],
      "metadata": {
        "id": "VOa6o8BSaxdE"
      },
      "execution_count": 4,
      "outputs": []
    },
    {
      "cell_type": "markdown",
      "source": [
        "## Função objetivo: maximiza a quantidade de barris de óleo que chegam em B.\n",
        "\n",
        "#### Alternativamente, poderíamos maximizar a quantidade de barris de óleo que saem de A, pois como não há estoque e temos somente uma origem e somente um destino, tudo que sai de A, chega efetivamente em B, e tudo que chega em B, é porque saiu de A."
      ],
      "metadata": {
        "id": "BAqz6ZopyBv1"
      }
    },
    {
      "cell_type": "code",
      "source": [
        "somatorio = quicksum(variaveis[(origem, destino)]\n",
        "                        for origem in arestas\n",
        "                        for destino in arestas[origem]\n",
        "                        if destino == \"B\")\n",
        "\n",
        "modelo.setObjective(somatorio, GRB.MAXIMIZE)"
      ],
      "metadata": {
        "id": "zgYQIEY8vqOu"
      },
      "execution_count": 5,
      "outputs": []
    },
    {
      "cell_type": "markdown",
      "source": [
        "## Restrições"
      ],
      "metadata": {
        "id": "EEPKe0qjyD6l"
      }
    },
    {
      "cell_type": "markdown",
      "source": [
        "* Como não há armazenamento nas estações intermediárias, tudo que chega nestas estações deve sair. Logo o fluxo de entrada é igual ao fluxo de saída:"
      ],
      "metadata": {
        "id": "-AwvznJNOfGW"
      }
    },
    {
      "cell_type": "code",
      "source": [
        "for vertice in vertices:\n",
        "\n",
        "  if(vertice == \"A\" or vertice == \"B\"):\n",
        "    continue\n",
        "\n",
        "  saida = quicksum(variaveis[(origem, destino)]\n",
        "                        for origem in arestas\n",
        "                        for destino in arestas[origem]\n",
        "                        if origem == vertice)\n",
        "\n",
        "  entrada = quicksum(variaveis[(origem, destino)]\n",
        "                      for origem in arestas\n",
        "                      for destino in arestas[origem]\n",
        "                      if destino == vertice)\n",
        "\n",
        "  modelo.addConstr(entrada == saida, name=f'conservacao_fluxo_{vertice}')"
      ],
      "metadata": {
        "id": "70sH-7O7wC8U"
      },
      "execution_count": 6,
      "outputs": []
    },
    {
      "cell_type": "markdown",
      "source": [
        "* O fluxo entre um par de vértices não deve ultrapassar a capacidade a aresta que liga os dois vértices:"
      ],
      "metadata": {
        "id": "mO7c4fdcPjSi"
      }
    },
    {
      "cell_type": "code",
      "source": [
        "for origem in arestas:\n",
        "  for destino in arestas[origem]:\n",
        "    modelo.addConstr(variaveis[(origem, destino)] <= arestas[origem][destino], f'capacidade_aresta_{origem}_{destino}')"
      ],
      "metadata": {
        "id": "kznJYcJo0D_4"
      },
      "execution_count": 7,
      "outputs": []
    },
    {
      "cell_type": "markdown",
      "source": [
        "## Portanto, temos o seguinte modelo:\n",
        "\n",
        "\\begin{equation}\n",
        "\\max f(x_{ij}) = ∑\\limits_{i\\mid(i,B)\\in E}x_{iB}\n",
        "\\end{equation}\n",
        "\n",
        "sujeito a:\n",
        "\n",
        "\\begin{alignat}{2}\n",
        "∑\\limits_{i\\mid(i,j)\\in E}x_{ij} = ∑\\limits_{i\\mid(j,i)\\in E}x_{ji} && \\qquad ∀j \\in V' \\\\\n",
        "x_{ij} \\le C_{ij} && \\qquad ∀(i,j) \\in E \\\\\n",
        "x_{ij} \\ge 0 && \\qquad\n",
        "\\end{alignat}\n",
        "\n",
        "* Sendo:\n",
        "  * G(V,E) o grafo com um conjunto de vértices V e um conjunto de arestas E\n",
        "  * $x_{ij}$ as variáveis que representam o fluxo das arestas (i,j) contidas em A\n",
        "  * $C_{ij}$ a capacidade da aresta (i,j)\n",
        "  * V' representa V sem os vértices iniciais e finais, isto é V - \\{A,B\\}"
      ],
      "metadata": {
        "id": "p30xvwGLPyp4"
      }
    },
    {
      "cell_type": "markdown",
      "source": [
        "# 1) Otimização do modelo:"
      ],
      "metadata": {
        "id": "xeZEnYa0s_w5"
      }
    },
    {
      "cell_type": "code",
      "source": [
        "modelo.optimize()"
      ],
      "metadata": {
        "colab": {
          "base_uri": "https://localhost:8080/"
        },
        "id": "C0Pcny2ObqwQ",
        "outputId": "925eb4d5-d66e-4790-959b-07e3f7fc45a7"
      },
      "execution_count": 8,
      "outputs": [
        {
          "output_type": "stream",
          "name": "stdout",
          "text": [
            "Gurobi Optimizer version 12.0.0 build v12.0.0rc1 (linux64 - \"Ubuntu 22.04.3 LTS\")\n",
            "\n",
            "CPU model: Intel(R) Xeon(R) CPU @ 2.20GHz, instruction set [SSE2|AVX|AVX2]\n",
            "Thread count: 1 physical cores, 2 logical processors, using up to 2 threads\n",
            "\n",
            "Optimize a model with 7 rows, 5 columns and 11 nonzeros\n",
            "Model fingerprint: 0x16ed832f\n",
            "Coefficient statistics:\n",
            "  Matrix range     [1e+00, 1e+00]\n",
            "  Objective range  [1e+00, 1e+00]\n",
            "  Bounds range     [0e+00, 0e+00]\n",
            "  RHS range        [3e+02, 5e+02]\n",
            "Presolve removed 5 rows and 1 columns\n",
            "Presolve time: 0.01s\n",
            "Presolved: 2 rows, 4 columns, 5 nonzeros\n",
            "\n",
            "Iteration    Objective       Primal Inf.    Dual Inf.      Time\n",
            "       0    7.0000000e+02   1.250000e+01   0.000000e+00      0s\n",
            "       1    7.0000000e+02   0.000000e+00   0.000000e+00      0s\n",
            "\n",
            "Solved in 1 iterations and 0.02 seconds (0.00 work units)\n",
            "Optimal objective  7.000000000e+02\n"
          ]
        }
      ]
    },
    {
      "cell_type": "markdown",
      "source": [
        "## Impressão das soluções do modelo:"
      ],
      "metadata": {
        "id": "Yzadp8wS-gRf"
      }
    },
    {
      "cell_type": "code",
      "source": [
        "if(modelo.status == GRB.OPTIMAL):\n",
        "  for origem in arestas:\n",
        "    for destino in arestas[origem]:\n",
        "        print(f\"Barris de óleo transportados na rota {origem}->{destino}: {variaveis[(origem, destino)].x}\")\n",
        "  print(f\"Valor ótimo: {modelo.objVal}\")"
      ],
      "metadata": {
        "id": "E7hZxO_i0_uw",
        "colab": {
          "base_uri": "https://localhost:8080/"
        },
        "outputId": "acf62cef-03a7-492d-9a52-7794fca29667"
      },
      "execution_count": 9,
      "outputs": [
        {
          "output_type": "stream",
          "name": "stdout",
          "text": [
            "Barris de óleo transportados na rota A->Norte: 300.0\n",
            "Barris de óleo transportados na rota A->Sul: 400.0\n",
            "Barris de óleo transportados na rota Sul->Norte: 100.0\n",
            "Barris de óleo transportados na rota Sul->B: 300.0\n",
            "Barris de óleo transportados na rota Norte->B: 400.0\n",
            "Valor ótimo: 700.0\n"
          ]
        }
      ]
    },
    {
      "cell_type": "markdown",
      "source": [
        "# 2) Análise de sensibilidade:"
      ],
      "metadata": {
        "id": "vD0x9eLUMl1x"
      }
    },
    {
      "cell_type": "code",
      "source": [
        "print(\"\\nIntervalos de Custos (Vetor de Custos):\")\n",
        "for variavel in modelo.getVars():\n",
        "  print(f\"Variável {variavel.VarName}:\")\n",
        "  print(f\"  Lower bound do custo (SAObjLow): {variavel.SAObjLow}\")\n",
        "  print(f\"  Upper bound do custo (SAObjUp): {variavel.SAObjUp}\")\n",
        "\n",
        "print(\"\\nIntervalos de Recursos (Vetor de Recursos):\")\n",
        "for restricao in modelo.getConstrs():\n",
        "  print(f\"Restrição {restricao.ConstrName}:\")\n",
        "  print(f\"  Lower bound do recurso (SARHSLow): {restricao.SARHSLow}\")\n",
        "  print(f\"  Upper bound do recurso (SARHSUp): {restricao.SARHSUp}\")\n",
        "  print(f\"  Variavel dual: {restricao.pi}\")\n",
        "  print(f\"  Folga primal: {restricao.slack}\")"
      ],
      "metadata": {
        "colab": {
          "base_uri": "https://localhost:8080/"
        },
        "id": "zaTZjmOBL6h0",
        "outputId": "efd373c4-d5be-4feb-911f-33411367ad65"
      },
      "execution_count": 10,
      "outputs": [
        {
          "output_type": "stream",
          "name": "stdout",
          "text": [
            "\n",
            "Intervalos de Custos (Vetor de Custos):\n",
            "Variável A_Norte:\n",
            "  Lower bound do custo (SAObjLow): -0.0\n",
            "  Upper bound do custo (SAObjUp): inf\n",
            "Variável A_Sul:\n",
            "  Lower bound do custo (SAObjLow): -1.0\n",
            "  Upper bound do custo (SAObjUp): 0.0\n",
            "Variável Sul_Norte:\n",
            "  Lower bound do custo (SAObjLow): -1.0\n",
            "  Upper bound do custo (SAObjUp): 0.0\n",
            "Variável Sul_B:\n",
            "  Lower bound do custo (SAObjLow): -0.0\n",
            "  Upper bound do custo (SAObjUp): inf\n",
            "Variável Norte_B:\n",
            "  Lower bound do custo (SAObjLow): -0.0\n",
            "  Upper bound do custo (SAObjUp): inf\n",
            "\n",
            "Intervalos de Recursos (Vetor de Recursos):\n",
            "Restrição conservacao_fluxo_Sul:\n",
            "  Lower bound do recurso (SARHSLow): -400.0\n",
            "  Upper bound do recurso (SARHSUp): 100.0\n",
            "  Variavel dual: 0.0\n",
            "  Folga primal: 0.0\n",
            "Restrição conservacao_fluxo_Norte:\n",
            "  Lower bound do recurso (SARHSLow): -100.0\n",
            "  Upper bound do recurso (SARHSUp): 100.0\n",
            "  Variavel dual: 0.0\n",
            "  Folga primal: 0.0\n",
            "Restrição capacidade_aresta_A_Norte:\n",
            "  Lower bound do recurso (SARHSLow): 200.0\n",
            "  Upper bound do recurso (SARHSUp): 400.0\n",
            "  Variavel dual: 0.0\n",
            "  Folga primal: 0.0\n",
            "Restrição capacidade_aresta_A_Sul:\n",
            "  Lower bound do recurso (SARHSLow): 400.0\n",
            "  Upper bound do recurso (SARHSUp): inf\n",
            "  Variavel dual: 0.0\n",
            "  Folga primal: 100.0\n",
            "Restrição capacidade_aresta_Sul_Norte:\n",
            "  Lower bound do recurso (SARHSLow): 100.0\n",
            "  Upper bound do recurso (SARHSUp): inf\n",
            "  Variavel dual: 0.0\n",
            "  Folga primal: 200.0\n",
            "Restrição capacidade_aresta_Sul_B:\n",
            "  Lower bound do recurso (SARHSLow): 0.0\n",
            "  Upper bound do recurso (SARHSUp): 400.0\n",
            "  Variavel dual: 1.0\n",
            "  Folga primal: 0.0\n",
            "Restrição capacidade_aresta_Norte_B:\n",
            "  Lower bound do recurso (SARHSLow): 300.0\n",
            "  Upper bound do recurso (SARHSUp): 500.0\n",
            "  Variavel dual: 1.0\n",
            "  Folga primal: 0.0\n"
          ]
        }
      ]
    },
    {
      "cell_type": "markdown",
      "source": [
        "##### Os valores de Lower Bound e Upper Bound dos custos apresentam valores pouco significativos, com limitantes inferiores assumindo valor 0 e -1 e superiores assumindo valores 0 e infinito. Isso faz sentido, já que alterar o custo de determinadas variáveis como o fluxo entre estações intermediárias não faz sentido segundo a lógica do problema, que é maximizar a quantidade de produtos que chegam em B. Considerar os produtos que saem de A quando já se considera os produtos que chegam em B também não faz sentido, já que tudo que sai de A, chega em B. Considerar custos diferentes de 1 para as variáveis que chegam em B também não faz sentido segundo a lógica do problema.\n",
        "\n",
        "##### Os valores de Lower Bound e Upper Bound dos recursos relacionados às variáveis de consevação de fluxo também são pouco relevantes, já que a conservação de fluxo presume que o recurso é 0, pois, se não fosse, não haveria conservação de fluxo. Os valores das variáveis duais relacionadas à essas restrições é 0.\n",
        "\n",
        "##### Já Os valores de Lower Bound, Upper Bound dos recursos relacionados às capacidades das arestas e as variáveis duais relacionadas a essas restrições apresentam valores interessantes de se analisar, pois a capacidade de uma aresta pode variar, dependendo de diversas condições do percurso, já que o grafo modela o transporte de barris de óleo.\n"
      ],
      "metadata": {
        "id": "VlEI1f9tXcId"
      }
    },
    {
      "cell_type": "markdown",
      "source": [
        "##### Os valores de Upper Bound da aresta A->Sul e Sul->Norte possuem o valor infinito e as variáveis duais apresentam valor 0, indicando que independentemente de quanto aumente os recursos dessas variáveis, a solução básica não vai se alterar e tampouco haverá algum aumento na função objetivo. Isso se dá pois o fluxo é 400 e 100, enquanto suas capacidades são 500 e 300, para as arestas A->Sul e Sul->Norte, respectivamente, indicando que elas não são o gargalo do fluxo, e, portanto, aumentar suas capacidades não é eficiente.\n",
        "\n",
        "##### A aresta A->Norte que, embora tenha sua capacidade total utilizada, aumentar sua capacidade não aumenta a função objetivo (variável dual = 0), pois há um gargalo posterior: a capacidade de chegada em B é inferior à capacidade de saída em A e aumentar a capacidade de saída em A não é efetivo se não aumentar a capacidade de chegada em B.\n",
        "\n",
        "##### Já, por último, aumentar os valores dos recursos de Sul->B e Norte->B há uma melhoria da função objetivo, pois essas arestas estão completamente utilizadas, ou seja, seu fluxo é igual a sua capacidade, e, aumentando sua capacidade em 1 unidade, seu fluxo é aumentado em 1 unidade. Outro ponto a se destacar é que o Upper Bound da aresta Norte->B é 400, que é igual a sua capacidade, isso indica que qualquer aumento significa uma mudança na solução básica."
      ],
      "metadata": {
        "id": "frkyvZmabPOj"
      }
    },
    {
      "cell_type": "code",
      "source": [],
      "metadata": {
        "id": "kPEdzdFLM65N"
      },
      "execution_count": 10,
      "outputs": []
    }
  ]
}
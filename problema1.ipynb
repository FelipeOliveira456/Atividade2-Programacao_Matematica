{
  "nbformat": 4,
  "nbformat_minor": 0,
  "metadata": {
    "colab": {
      "provenance": []
    },
    "kernelspec": {
      "name": "python3",
      "display_name": "Python 3"
    },
    "language_info": {
      "name": "python"
    }
  },
  "cells": [
    {
      "cell_type": "markdown",
      "source": [
        "# GCC118 - Programação Matemática\n",
        "## Universidade Federal de Lavras\n",
        "### Problema 1\n",
        "#### Aluno: Eduardo Cesar Cauduro Coelho\n",
        "#### Matrícula: 202310175\n",
        "#### Aluno: Felipe Geraldo de Oliveira\n",
        "#### Matrícula: 202310174"
      ],
      "metadata": {
        "id": "8QMtpdn8uccu"
      }
    },
    {
      "cell_type": "markdown",
      "source": [
        "## Instalação da biblioteca Gurobipy\n",
        "\n",
        "\n",
        "\n"
      ],
      "metadata": {
        "id": "fagVt1pLueOr"
      }
    },
    {
      "cell_type": "code",
      "execution_count": 1,
      "metadata": {
        "colab": {
          "base_uri": "https://localhost:8080/"
        },
        "id": "lck3LIFAwTGG",
        "outputId": "d190cfe7-1282-4849-e950-b994cb1aaa26"
      },
      "outputs": [
        {
          "output_type": "stream",
          "name": "stdout",
          "text": [
            "Collecting gurobipy\n",
            "  Downloading gurobipy-12.0.0-cp310-cp310-manylinux2014_x86_64.manylinux_2_17_x86_64.whl.metadata (15 kB)\n",
            "Downloading gurobipy-12.0.0-cp310-cp310-manylinux2014_x86_64.manylinux_2_17_x86_64.whl (14.4 MB)\n",
            "\u001b[2K   \u001b[90m━━━━━━━━━━━━━━━━━━━━━━━━━━━━━━━━━━━━━━━━\u001b[0m \u001b[32m14.4/14.4 MB\u001b[0m \u001b[31m18.6 MB/s\u001b[0m eta \u001b[36m0:00:00\u001b[0m\n",
            "\u001b[?25hInstalling collected packages: gurobipy\n",
            "Successfully installed gurobipy-12.0.0\n"
          ]
        }
      ],
      "source": [
        "!pip install gurobipy"
      ]
    },
    {
      "cell_type": "markdown",
      "source": [
        "# 1$)$ Implemente um modelo de programação linear, usando o gurobipy, e encontre a solução ótima do problema:"
      ],
      "metadata": {
        "id": "3zKUStH4cEM5"
      }
    },
    {
      "cell_type": "markdown",
      "source": [
        "## Declaração dos parâmetros do relógio de parede e do relógio de pedestal, além do número máximo de horas que cada pessoa trabalha\n",
        "\n"
      ],
      "metadata": {
        "id": "Glu61I-duoLx"
      }
    },
    {
      "cell_type": "code",
      "source": [
        "relogio_pedestal = {\n",
        "    \"lucro\": 300,\n",
        "    \"tempo_gasto_montagem\": 6,\n",
        "    \"tempo_gasto_producao\": 8,\n",
        "    \"tempo_gasto_remessa\": 3\n",
        "}\n",
        "\n",
        "relogio_parede = {\n",
        "    \"lucro\": 200,\n",
        "    \"tempo_gasto_montagem\": 4,\n",
        "    \"tempo_gasto_producao\": 4,\n",
        "    \"tempo_gasto_remessa\": 3\n",
        "}\n",
        "\n",
        "horas_maximas_trabalhadas = {\n",
        "    \"Joao\": 40,\n",
        "    \"Ana\": 40,\n",
        "    \"Lidia\": 20\n",
        "}"
      ],
      "metadata": {
        "id": "NcNr0nIzw6M6"
      },
      "execution_count": 2,
      "outputs": []
    },
    {
      "cell_type": "markdown",
      "source": [
        "## Criação do modelo:"
      ],
      "metadata": {
        "id": "ymDIXbMiXrMk"
      }
    },
    {
      "cell_type": "code",
      "source": [
        "from gurobipy import Model, GRB\n",
        "\n",
        "modelo = Model(\"relogios\")"
      ],
      "metadata": {
        "colab": {
          "base_uri": "https://localhost:8080/"
        },
        "id": "i5xB_RtCxTQQ",
        "outputId": "0b936117-38ca-4f09-e700-54c6376d2a64"
      },
      "execution_count": 3,
      "outputs": [
        {
          "output_type": "stream",
          "name": "stdout",
          "text": [
            "Restricted license - for non-production use only - expires 2026-11-23\n"
          ]
        }
      ]
    },
    {
      "cell_type": "markdown",
      "source": [
        "## Declaração das variáveis de decisão que indicam o número de relógios de pedestal vendidos e o número de relógios de parede vendidos"
      ],
      "metadata": {
        "id": "oyilvbyKXw_r"
      }
    },
    {
      "cell_type": "code",
      "source": [
        "relogio_pedestal_var = modelo.addVar(name=\"relogio_pedestal\", vtype=GRB.CONTINUOUS, lb=0)\n",
        "relogio_parede_var = modelo.addVar(name=\"relogio_parede\", vtype=GRB.CONTINUOUS, lb=0)"
      ],
      "metadata": {
        "id": "tnBIJoJyyNBi"
      },
      "execution_count": 4,
      "outputs": []
    },
    {
      "cell_type": "markdown",
      "source": [
        "## Função objetivo: maximiza o lucro da venda dos dois tipos de relógio:"
      ],
      "metadata": {
        "id": "Jo60SDSXX8Fm"
      }
    },
    {
      "cell_type": "code",
      "source": [
        "modelo.setObjective(relogio_pedestal[\"lucro\"] * relogio_pedestal_var + relogio_parede[\"lucro\"] * relogio_parede_var, GRB.MAXIMIZE)"
      ],
      "metadata": {
        "id": "dScNxFceylJm"
      },
      "execution_count": 5,
      "outputs": []
    },
    {
      "cell_type": "markdown",
      "source": [
        "## Restrições\n"
      ],
      "metadata": {
        "id": "MFClb2JawPWB"
      }
    },
    {
      "cell_type": "markdown",
      "source": [
        "* O número de horas gasto na montagem do mecanismo dos relógios não pode ultrapassar o número de horas máximo trabalhadas por João, que é o engenheiro:"
      ],
      "metadata": {
        "id": "jz7HU_x2Y18p"
      }
    },
    {
      "cell_type": "code",
      "source": [
        "modelo.addConstr(relogio_pedestal[\"tempo_gasto_montagem\"] * relogio_pedestal_var + relogio_parede[\"tempo_gasto_montagem\"] * relogio_parede_var <= horas_maximas_trabalhadas[\"Joao\"], \"horas_Joao\")"
      ],
      "metadata": {
        "colab": {
          "base_uri": "https://localhost:8080/"
        },
        "id": "oGNBVEMmyyhW",
        "outputId": "cc189b28-aa38-47bc-ab5a-e79ff23cf137"
      },
      "execution_count": 6,
      "outputs": [
        {
          "output_type": "execute_result",
          "data": {
            "text/plain": [
              "<gurobi.Constr *Awaiting Model Update*>"
            ]
          },
          "metadata": {},
          "execution_count": 6
        }
      ]
    },
    {
      "cell_type": "markdown",
      "source": [
        "* O número de horas gasto na produção dos relógios não pode ultrapassar o número de horas máximo trabalhadas por Ana, que é carpinteira:"
      ],
      "metadata": {
        "id": "BqbLj1uiZFWL"
      }
    },
    {
      "cell_type": "code",
      "source": [
        "modelo.addConstr(relogio_pedestal[\"tempo_gasto_producao\"] * relogio_pedestal_var + relogio_parede[\"tempo_gasto_producao\"] * relogio_parede_var <= horas_maximas_trabalhadas[\"Ana\"], \"horas_Ana\")"
      ],
      "metadata": {
        "colab": {
          "base_uri": "https://localhost:8080/"
        },
        "id": "luZNkcFbzXKZ",
        "outputId": "cb37cbf7-906f-4517-cbe3-425a1c1d5b99"
      },
      "execution_count": 7,
      "outputs": [
        {
          "output_type": "execute_result",
          "data": {
            "text/plain": [
              "<gurobi.Constr *Awaiting Model Update*>"
            ]
          },
          "metadata": {},
          "execution_count": 7
        }
      ]
    },
    {
      "cell_type": "markdown",
      "source": [
        "* O número de horas gasto na realização de encomendas e remessas não pode ultrapassar o número máximo de horas trabalhadas por Lídia:"
      ],
      "metadata": {
        "id": "i4fjWvbzZ8Yh"
      }
    },
    {
      "cell_type": "code",
      "source": [
        "modelo.addConstr(relogio_pedestal[\"tempo_gasto_remessa\"] * relogio_pedestal_var + relogio_parede[\"tempo_gasto_remessa\"] * relogio_parede_var <= horas_maximas_trabalhadas[\"Lidia\"], \"horas_Lidia\")"
      ],
      "metadata": {
        "colab": {
          "base_uri": "https://localhost:8080/"
        },
        "id": "ShJQ6wTwzbmB",
        "outputId": "b73be16e-c1c7-4d7f-d6bb-8ed8661dd613"
      },
      "execution_count": 8,
      "outputs": [
        {
          "output_type": "execute_result",
          "data": {
            "text/plain": [
              "<gurobi.Constr *Awaiting Model Update*>"
            ]
          },
          "metadata": {},
          "execution_count": 8
        }
      ]
    },
    {
      "cell_type": "markdown",
      "source": [
        "## Portanto, temos o seguinte modelo:\n",
        "\n",
        "\\begin{equation}\n",
        "\\max f(x,y) = 300x + 200y\n",
        "\\end{equation}\n",
        "\n",
        "sujeito a:\n",
        "\n",
        "\\begin{alignat}{2}\n",
        "6x + 4y \\le 40 && \\qquad \\\\\n",
        "8x + 4y \\le 40 && \\qquad \\\\\n",
        "3x + 3y \\le 20 && \\qquad \\\\\n",
        "x \\ge 0, y \\ge 0 && \\qquad\n",
        "\\end{alignat}\n",
        "\n",
        "* Sendo x o número de relógios de pedestal e y o número de relógios de parede."
      ],
      "metadata": {
        "id": "4nl-ljCQaW7b"
      }
    },
    {
      "cell_type": "markdown",
      "source": [
        "## Solução do modelo:"
      ],
      "metadata": {
        "id": "Ho50mo9gbgAL"
      }
    },
    {
      "cell_type": "code",
      "source": [
        "modelo.optimize()"
      ],
      "metadata": {
        "colab": {
          "base_uri": "https://localhost:8080/"
        },
        "id": "bCbS2PZhzn2Y",
        "outputId": "3828e718-ff0c-40a7-e185-c3e68e69786a"
      },
      "execution_count": 9,
      "outputs": [
        {
          "output_type": "stream",
          "name": "stdout",
          "text": [
            "Gurobi Optimizer version 12.0.0 build v12.0.0rc1 (linux64 - \"Ubuntu 22.04.3 LTS\")\n",
            "\n",
            "CPU model: Intel(R) Xeon(R) CPU @ 2.20GHz, instruction set [SSE2|AVX|AVX2]\n",
            "Thread count: 1 physical cores, 2 logical processors, using up to 2 threads\n",
            "\n",
            "Optimize a model with 3 rows, 2 columns and 6 nonzeros\n",
            "Model fingerprint: 0x6103ff60\n",
            "Coefficient statistics:\n",
            "  Matrix range     [3e+00, 8e+00]\n",
            "  Objective range  [2e+02, 3e+02]\n",
            "  Bounds range     [0e+00, 0e+00]\n",
            "  RHS range        [2e+01, 4e+01]\n",
            "Presolve time: 0.01s\n",
            "Presolved: 3 rows, 2 columns, 6 nonzeros\n",
            "\n",
            "Iteration    Objective       Primal Inf.    Dual Inf.      Time\n",
            "       0    5.0000000e+32   4.250000e+30   5.000000e+02      0s\n",
            "       2    1.6666667e+03   0.000000e+00   0.000000e+00      0s\n",
            "\n",
            "Solved in 2 iterations and 0.01 seconds (0.00 work units)\n",
            "Optimal objective  1.666666667e+03\n"
          ]
        }
      ]
    },
    {
      "cell_type": "markdown",
      "source": [
        "## Impressão das soluções do modelo:"
      ],
      "metadata": {
        "id": "_cc_SUqAbjwB"
      }
    },
    {
      "cell_type": "code",
      "source": [
        "if(modelo.status == GRB.OPTIMAL):\n",
        "  print(f\"Relógio de pedestal: {relogio_pedestal_var.X}\")\n",
        "  print(f\"Relógio de parede: {relogio_parede_var.X}\")\n",
        "  print(f\"Valor ótimo: {modelo.objVal}\")"
      ],
      "metadata": {
        "colab": {
          "base_uri": "https://localhost:8080/"
        },
        "id": "ZsueayAqzti4",
        "outputId": "720bb797-627c-470b-86be-c850c178266a"
      },
      "execution_count": 10,
      "outputs": [
        {
          "output_type": "stream",
          "name": "stdout",
          "text": [
            "Relógio de pedestal: 3.333333333333333\n",
            "Relógio de parede: 3.3333333333333335\n",
            "Valor ótimo: 1666.6666666666665\n"
          ]
        }
      ]
    },
    {
      "cell_type": "markdown",
      "source": [
        "## 2$)$ Faça a análise de sensibilidade do modelo implementado, utilizando o gurobipy. Em sua resposta, além de apresentar os valores, apresente uma explicação sobre o que os resultados indicam:"
      ],
      "metadata": {
        "id": "MDcjKhbGcjc-"
      }
    },
    {
      "cell_type": "code",
      "source": [
        "print(\"\\nIntervalos de Custos (Vetor de Custos):\")\n",
        "for variavel in modelo.getVars():\n",
        "  print(f\"Variável {variavel.VarName}:\")\n",
        "  print(f\"  Lower bound do custo (SAObjLow): {variavel.SAObjLow}\")\n",
        "  print(f\"  Upper bound do custo (SAObjUp): {variavel.SAObjUp}\")\n",
        "\n",
        "print(\"\\nIntervalos de Recursos (Vetor de Recursos):\")\n",
        "for restricao in modelo.getConstrs():\n",
        "  print(f\"Restrição {restricao.ConstrName}:\")\n",
        "  print(f\"  Lower bound do recurso (SARHSLow): {restricao.SARHSLow}\")\n",
        "  print(f\"  Upper bound do recurso (SARHSUp): {restricao.SARHSUp}\")\n",
        "  print(f\"  Variavel dual: {restricao.pi}\")\n",
        "  print(f\"  Folga primal: {restricao.slack}\")"
      ],
      "metadata": {
        "colab": {
          "base_uri": "https://localhost:8080/"
        },
        "id": "ylmRK_xzz7dR",
        "outputId": "9f55ed14-591b-47e4-91e1-ac366cfd4d74"
      },
      "execution_count": 11,
      "outputs": [
        {
          "output_type": "stream",
          "name": "stdout",
          "text": [
            "\n",
            "Intervalos de Custos (Vetor de Custos):\n",
            "Variável relogio_pedestal:\n",
            "  Lower bound do custo (SAObjLow): 200.0\n",
            "  Upper bound do custo (SAObjUp): 400.0\n",
            "Variável relogio_parede:\n",
            "  Lower bound do custo (SAObjLow): 150.0\n",
            "  Upper bound do custo (SAObjUp): 300.0\n",
            "\n",
            "Intervalos de Recursos (Vetor de Recursos):\n",
            "Restrição horas_Joao:\n",
            "  Lower bound do recurso (SARHSLow): 33.333333333333336\n",
            "  Upper bound do recurso (SARHSUp): inf\n",
            "  Variavel dual: 0.0\n",
            "  Folga primal: 6.666666666666664\n",
            "Restrição horas_Ana:\n",
            "  Lower bound do recurso (SARHSLow): 26.666666666666668\n",
            "  Upper bound do recurso (SARHSUp): 53.33333333333333\n",
            "  Variavel dual: 25.0\n",
            "  Folga primal: 0.0\n",
            "Restrição horas_Lidia:\n",
            "  Lower bound do recurso (SARHSLow): 15.0\n",
            "  Upper bound do recurso (SARHSUp): 30.0\n",
            "  Variavel dual: 33.333333333333336\n",
            "  Folga primal: 0.0\n"
          ]
        }
      ]
    },
    {
      "cell_type": "markdown",
      "source": [
        "##### Os valores de Lower Bound e Upper Bound indicam os valores tanto dos custos quanto das restições que podem ser admitidos para que a solução continue a mesma, isto é, que a partição básica e não básica contenham exatamente as mesmas variáveis.\n",
        "\n",
        "##### A variável dual indica a variação da função objetivo caso aumente em uma unidade alguma restrição."
      ],
      "metadata": {
        "id": "1Lz4PJ-OdFGS"
      }
    },
    {
      "cell_type": "markdown",
      "source": [
        "# 3$)$ Para aumentar o lucro total, os três sócios concordaram que um deles aumentaria ligeiramente o número máximo de horas disponíveis por semana. A escolha de qual deles se basearia naquele que aumentaria mais o lucro total. Use os resultados da análise de sensibilidade para fazer essa escolha:"
      ],
      "metadata": {
        "id": "fYSefHPqiQOV"
      }
    },
    {
      "cell_type": "markdown",
      "source": [
        "##### A variável dual da Lídia (última restrição do modelo que está relacionada à remessa) possui o maior valor (i.e.: 33.333333333333336), então o seu aumento levaria ao meior aumento na função objetivo, pois para cada valor unitário de recurso adicionado, a função objetivo aumentaria em 33.333333333333336. Logo, deve-se aumentar o número de horas trabalhadas da Lídia."
      ],
      "metadata": {
        "id": "C0b1iariimMk"
      }
    },
    {
      "cell_type": "markdown",
      "source": [
        "# 4) Existe alguma variável dual igual a zero? O que significa ter uma variável dual igual a zero?"
      ],
      "metadata": {
        "id": "WQRAwI8fkeCC"
      }
    },
    {
      "cell_type": "markdown",
      "source": [
        "##### Sim, a variável dual do João (primeira restrição do modelo que está relacionada à montagem) possui valor zero, indicando que sua variação não varia o valor da função objetivo. Claro que caso a variação saia dos valores limitados pelo Upper bound e Lower bound teremos uma nova solução, modificando os valores das variáveis duais.\n",
        "\n",
        "##### Nesse caso, o Upper bound é inf, logo pode-se aumentar infinitamente que não alterará o valor da função objetivo e a solução permanecerá a mesma."
      ],
      "metadata": {
        "id": "Em0NG7kCkzWo"
      }
    },
    {
      "cell_type": "code",
      "source": [],
      "metadata": {
        "id": "rEofWJEY2uCz"
      },
      "execution_count": 11,
      "outputs": []
    }
  ]
}